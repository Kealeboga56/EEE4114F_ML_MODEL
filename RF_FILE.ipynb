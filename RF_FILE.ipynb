{
 "cells": [
  {
   "cell_type": "markdown",
   "id": "28670e37-a491-44a1-888c-4233c74708c1",
   "metadata": {},
   "source": [
    "# Human Activity Recognition\n",
    "This notebook provides some guidelines for building a classifier for the MotionSense dataset"
   ]
  },
  {
   "cell_type": "code",
   "execution_count": 1,
   "id": "ef12a734-987f-443c-9ee5-6d249699b99b",
   "metadata": {},
   "outputs": [],
   "source": [
    "import numpy as np\n",
    "import pandas as pd\n",
    "import matplotlib.pyplot as plt\n",
    "from sklearn.model_selection import train_test_split, TimeSeriesSplit\n",
    "from sklearn.preprocessing import MinMaxScaler, StandardScaler\n",
    "from sklearn.preprocessing import LabelEncoder\n",
    "import torch\n",
    "import torch.nn as nn\n",
    "import torch.nn.functional as F\n",
    "import torch.optim as optim\n",
    "from torch.utils.data import Dataset, DataLoader\n",
    "from collections import Counter"
   ]
  },
  {
   "cell_type": "code",
   "execution_count": 2,
   "id": "d237d4bd-fd1f-46b7-b9df-33a25174b049",
   "metadata": {},
   "outputs": [],
   "source": [
    "from sklearn.metrics import confusion_matrix\n",
    "import seaborn as sns\n",
    "import matplotlib.pyplot as plt\n",
    "\n",
    "def plot_confusion_matrix(y_true, y_pred, classes):\n",
    "    cm = confusion_matrix(y_true, y_pred)\n",
    "    plt.figure(figsize=(10, 8))\n",
    "    sns.heatmap(cm, annot=True, fmt='d', cmap='Blues', \n",
    "                xticklabels=classes, yticklabels=classes)\n",
    "    plt.xlabel('Predicted')\n",
    "    plt.ylabel('True')\n",
    "    plt.title('Confusion Matrix')\n",
    "    plt.show()"
   ]
  },
  {
   "cell_type": "markdown",
   "id": "fa72d7b3-3d66-4633-b173-f36a230e41e5",
   "metadata": {},
   "source": [
    "# Generate time-series data\n",
    "The original MotionSense dataset comes in a slightly cumbersome format, but the authors do provide a few functions to produce Pandas DataFrames with control over what is produced. For our purposes we are not concerned with all of the target data, as we only need to know the activity that was being recorded. "
   ]
  },
  {
   "cell_type": "code",
   "execution_count": 3,
   "id": "8ac8cc02-3859-4199-bd7f-c43f98504f5c",
   "metadata": {},
   "outputs": [],
   "source": [
    "def get_ds_infos():\n",
    "    \"\"\"\n",
    "    Read the file includes data subject information.\n",
    "\n",
    "    EEE4114: Technically we do not need these data, as we are not concerned about identifying the subjects. \n",
    "    \n",
    "    Data Columns:\n",
    "    0: code [1-24]\n",
    "    1: weight [kg]\n",
    "    2: height [cm]\n",
    "    3: age [years]\n",
    "    4: gender [0:Female, 1:Male]\n",
    "    \n",
    "    Returns:\n",
    "        A pandas DataFrame that contains information about data subjects' attributes \n",
    "    \"\"\" \n",
    "\n",
    "    dss = pd.read_csv(\"../data/data_subjects_info.csv\")\n",
    "    print(\"[INFO] -- Data subjects' information is imported.\")\n",
    "    \n",
    "    return dss\n",
    "\n",
    "def set_data_types(data_types=[\"userAcceleration\"]):\n",
    "    \"\"\"\n",
    "    Select the sensors and the mode to shape the final dataset. \n",
    "\n",
    "    EEE4114F: Choose sensors that you think are useful or would like to include in training. \n",
    "    You can choose all of them, or you could opt to try a limited set of input features\n",
    "    \n",
    "    Args:\n",
    "        data_types: A list of sensor data type from this list: [attitude, gravity, rotationRate, userAcceleration] \n",
    "\n",
    "    Returns:\n",
    "        It returns a list of columns to use for creating time-series from files.\n",
    "    \"\"\"\n",
    "    dt_list = []\n",
    "    for t in data_types:\n",
    "        if t != \"attitude\":\n",
    "            dt_list.append([t+\".x\",t+\".y\",t+\".z\"])\n",
    "        else:\n",
    "            dt_list.append([t+\".roll\", t+\".pitch\", t+\".yaw\"])\n",
    "\n",
    "    return dt_list\n",
    "\n",
    "\n",
    "def create_time_series(dt_list, act_labels, trial_codes, mode=\"mag\", labeled=True):\n",
    "    \"\"\"\n",
    "    EEE4114F: This defines what data you would like to include for a given set.  \n",
    "\n",
    "    Args:\n",
    "        dt_list: A list of columns that shows the type of data we want.\n",
    "        act_labels: list of activites\n",
    "        trial_codes: list of trials\n",
    "        mode: It can be \"raw\" which means you want raw data\n",
    "        for every dimension of each data type,\n",
    "        [attitude(roll, pitch, yaw); gravity(x, y, z); rotationRate(x, y, z); userAcceleration(x,y,z)].\n",
    "        or it can be \"mag\" which means you only want the magnitude for each data type: (x^2+y^2+z^2)^(1/2)\n",
    "        labeled: True, if we want a labeled dataset. False, if we only want sensor values.\n",
    "\n",
    "    Returns:\n",
    "        It returns a time-series of sensor data.\n",
    "    \n",
    "    \"\"\"\n",
    "    num_data_cols = len(dt_list) if mode == \"mag\" else len(dt_list*3)\n",
    "\n",
    "    if labeled:\n",
    "        dataset = np.zeros((0,num_data_cols+1)) # \"1\" --> [act] we do not need the other labels\n",
    "    else:\n",
    "        dataset = np.zeros((0,num_data_cols))\n",
    "        \n",
    "    ds_list = get_ds_infos()\n",
    "    \n",
    "    print(\"[INFO] -- Creating Time-Series\")\n",
    "    for sub_id in ds_list[\"code\"]:\n",
    "        for act_id, act in enumerate(act_labels):\n",
    "            for trial in trial_codes[act_id]:\n",
    "                fname = '../data/A_DeviceMotion_data/'+act+'_'+str(trial)+'/sub_'+str(int(sub_id))+'.csv'\n",
    "                raw_data = pd.read_csv(fname)\n",
    "                raw_data = raw_data.drop(['Unnamed: 0'], axis=1)\n",
    "                vals = np.zeros((len(raw_data), num_data_cols))\n",
    "                for x_id, axes in enumerate(dt_list):\n",
    "                    if mode == \"mag\":\n",
    "                        vals[:,x_id] = (raw_data[axes]**2).sum(axis=1)**0.5        \n",
    "                    else:\n",
    "                        vals[:,x_id*3:(x_id+1)*3] = raw_data[axes].values\n",
    "                    vals = vals[:,:num_data_cols]\n",
    "                if labeled:\n",
    "                    lbls = np.array([[act_id]]*len(raw_data))\n",
    "                    vals = np.concatenate((vals, lbls), axis=1)\n",
    "                dataset = np.append(dataset,vals, axis=0)\n",
    "    cols = []\n",
    "    for axes in dt_list:\n",
    "        if mode == \"raw\":\n",
    "            cols += axes\n",
    "        else:\n",
    "            cols += [str(axes[0][:-2])]\n",
    "            \n",
    "    if labeled:\n",
    "        cols += [\"act\"]\n",
    "    \n",
    "    dataset = pd.DataFrame(data=dataset, columns=cols)\n",
    "    return dataset"
   ]
  },
  {
   "cell_type": "code",
   "execution_count": null,
   "id": "a3465a92-e3f8-4d30-8971-fd76f2c23a5f",
   "metadata": {},
   "outputs": [],
   "source": []
  },
  {
   "cell_type": "code",
   "execution_count": 4,
   "id": "da0a906a-2822-41dd-b788-1d5899b7cea8",
   "metadata": {},
   "outputs": [
    {
     "name": "stdout",
     "output_type": "stream",
     "text": [
      "[INFO] -- Selected sensor data types: ['attitude', 'userAcceleration']\n",
      "[INFO] -- Selected activites: ['dws', 'ups', 'wlk', 'jog', 'std', 'sit']\n",
      "[INFO] -- Data subjects' information is imported.\n",
      "[INFO] -- Creating Time-Series\n",
      "[INFO] -- Shape of time-Series dataset:(1412865, 7)\n"
     ]
    },
    {
     "data": {
      "text/html": [
       "<div>\n",
       "<style scoped>\n",
       "    .dataframe tbody tr th:only-of-type {\n",
       "        vertical-align: middle;\n",
       "    }\n",
       "\n",
       "    .dataframe tbody tr th {\n",
       "        vertical-align: top;\n",
       "    }\n",
       "\n",
       "    .dataframe thead th {\n",
       "        text-align: right;\n",
       "    }\n",
       "</style>\n",
       "<table border=\"1\" class=\"dataframe\">\n",
       "  <thead>\n",
       "    <tr style=\"text-align: right;\">\n",
       "      <th></th>\n",
       "      <th>attitude.roll</th>\n",
       "      <th>attitude.pitch</th>\n",
       "      <th>attitude.yaw</th>\n",
       "      <th>userAcceleration.x</th>\n",
       "      <th>userAcceleration.y</th>\n",
       "      <th>userAcceleration.z</th>\n",
       "      <th>act</th>\n",
       "    </tr>\n",
       "  </thead>\n",
       "  <tbody>\n",
       "    <tr>\n",
       "      <th>0</th>\n",
       "      <td>1.528132</td>\n",
       "      <td>-0.733896</td>\n",
       "      <td>0.696372</td>\n",
       "      <td>0.294894</td>\n",
       "      <td>-0.184493</td>\n",
       "      <td>0.377542</td>\n",
       "      <td>0.0</td>\n",
       "    </tr>\n",
       "    <tr>\n",
       "      <th>1</th>\n",
       "      <td>1.527992</td>\n",
       "      <td>-0.716987</td>\n",
       "      <td>0.677762</td>\n",
       "      <td>0.219405</td>\n",
       "      <td>0.035846</td>\n",
       "      <td>0.114866</td>\n",
       "      <td>0.0</td>\n",
       "    </tr>\n",
       "    <tr>\n",
       "      <th>2</th>\n",
       "      <td>1.527765</td>\n",
       "      <td>-0.706999</td>\n",
       "      <td>0.670951</td>\n",
       "      <td>0.010714</td>\n",
       "      <td>0.134701</td>\n",
       "      <td>-0.167808</td>\n",
       "      <td>0.0</td>\n",
       "    </tr>\n",
       "    <tr>\n",
       "      <th>3</th>\n",
       "      <td>1.516768</td>\n",
       "      <td>-0.704678</td>\n",
       "      <td>0.675735</td>\n",
       "      <td>-0.008389</td>\n",
       "      <td>0.136788</td>\n",
       "      <td>0.094958</td>\n",
       "      <td>0.0</td>\n",
       "    </tr>\n",
       "    <tr>\n",
       "      <th>4</th>\n",
       "      <td>1.493941</td>\n",
       "      <td>-0.703918</td>\n",
       "      <td>0.672994</td>\n",
       "      <td>0.199441</td>\n",
       "      <td>0.353996</td>\n",
       "      <td>-0.044299</td>\n",
       "      <td>0.0</td>\n",
       "    </tr>\n",
       "  </tbody>\n",
       "</table>\n",
       "</div>"
      ],
      "text/plain": [
       "   attitude.roll  attitude.pitch  attitude.yaw  userAcceleration.x  \\\n",
       "0       1.528132       -0.733896      0.696372            0.294894   \n",
       "1       1.527992       -0.716987      0.677762            0.219405   \n",
       "2       1.527765       -0.706999      0.670951            0.010714   \n",
       "3       1.516768       -0.704678      0.675735           -0.008389   \n",
       "4       1.493941       -0.703918      0.672994            0.199441   \n",
       "\n",
       "   userAcceleration.y  userAcceleration.z  act  \n",
       "0           -0.184493            0.377542  0.0  \n",
       "1            0.035846            0.114866  0.0  \n",
       "2            0.134701           -0.167808  0.0  \n",
       "3            0.136788            0.094958  0.0  \n",
       "4            0.353996           -0.044299  0.0  "
      ]
     },
     "execution_count": 4,
     "metadata": {},
     "output_type": "execute_result"
    }
   ],
   "source": [
    "ACT_LABELS = [\"dws\",\"ups\", \"wlk\", \"jog\", \"std\", \"sit\"]\n",
    "TRIAL_CODES = {\n",
    "    ACT_LABELS[0]:[1,2,11],\n",
    "    ACT_LABELS[1]:[3,4,12],\n",
    "    ACT_LABELS[2]:[7,8,15],\n",
    "    ACT_LABELS[3]:[9,16],\n",
    "    ACT_LABELS[4]:[6,14],\n",
    "    ACT_LABELS[5]:[5,13]\n",
    "}\n",
    "\n",
    "## Here we set parameter to build labeled time-series from dataset of \"(A)DeviceMotion_data\"\n",
    "## attitude(roll, pitch, yaw); gravity(x, y, z); rotationRate(x, y, z); userAcceleration(x,y,z)\n",
    "sdt = [\"attitude\", \"userAcceleration\"]\n",
    "print(\"[INFO] -- Selected sensor data types: \"+str(sdt))    \n",
    "act_labels = ACT_LABELS #[0:4]\n",
    "print(\"[INFO] -- Selected activites: \"+str(act_labels))    \n",
    "trial_codes = [TRIAL_CODES[act] for act in act_labels]\n",
    "dt_list = set_data_types(sdt)\n",
    "dataset = create_time_series(dt_list, act_labels, trial_codes, mode=\"raw\", labeled=True)\n",
    "print(\"[INFO] -- Shape of time-Series dataset:\"+str(dataset.shape))    \n",
    "dataset.head()"
   ]
  },
  {
   "cell_type": "markdown",
   "id": "f688dfc0-99ed-402b-9a6b-e126d7936a33",
   "metadata": {},
   "source": [
    "# Data Pre-processing\n",
    "There are numerous approaches to solving this task and your choice of algorithm will determine what form your input data should take. For example, a feed-forward neural network could be used, but what type of representation would make sense? Without being able to account for the temporal structure of the data, feed-forward networks might fail. One way around this is to potentially use summarized statistics about the data to simplify the features in a way that is not reliant on temporal information. E.g. instead of the raw signal for the acceleration, what if you worked with the mean? This might not be the best approach, compared to other algorithms, but it could be useful for a feed-forward network.\n",
    "\n",
    "what about convolutional neural networks? Well, you could use 1D convolutions directly on time-series data which would then result in fewer model parameters compared to a fully-connected network, with the added benefit of retaining temporal information. Alternatively you could look to transform the time-series data into 2D data using something such as an FFT to produce a spectogram. Or for something simpler you can create fixed windows to divide your dataset into chunks of 2D data e.g. for 6 sensors and a window of 400 samples you would generate a 6 x 400 input. "
   ]
  },
  {
   "cell_type": "code",
   "execution_count": 5,
   "id": "c6cd922f-0ac7-4767-86ca-24f73f22167e",
   "metadata": {},
   "outputs": [],
   "source": [
    "def windows(dataset, window_size=400, stride=200):\n",
    "    \"\"\"\n",
    "    Create fixed-length windows of the input data. \n",
    "\n",
    "    Args:\n",
    "        dataset: DataFrame of the time-series data\n",
    "        size: (int) the size of the windows in number of samples.\n",
    "        stride: (int) the stride length of the windows. \n",
    "\n",
    "    Returns:\n",
    "        windows_df: DataFrame of the windowed time-series data. Each window should have the shape (n_sensors, window_size). \n",
    "            The number of examples will change depending on the stride.    \n",
    "\n",
    "    \"\"\"\n",
    "\n",
    "    features = dataset.iloc[:, :-1].values  # Shape: (N, 6)\n",
    "    labels = dataset.iloc[:, -1].values     # Shape: (N,)\n",
    "    \n",
    "    windows_list = []\n",
    "    \n",
    "    for start in range(0, len(dataset) - window_size + 1, stride):\n",
    "        end = start + window_size\n",
    "        window = features[start:end].T  # Transpose to shape (6, window_size)\n",
    "        window_labels = labels[start:end]\n",
    "        label = Counter(window_labels).most_common(1)[0][0]  # Mode label\n",
    "        windows_list.append((window, label))\n",
    "\n",
    "    return windows_list\n",
    "\n",
    "def windows_no_event_overlap(dataset, window_size=400, stride=200):\n",
    "    features = dataset.iloc[:, :-1].values  # All sensor columns (shape: N x 6)\n",
    "    labels = dataset.iloc[:, -1].values     # Activity labels (shape: N,)\n",
    "\n",
    "    windows_list = []\n",
    "    start = 0\n",
    "    N = len(dataset)\n",
    "\n",
    "    while start + window_size <= N:\n",
    "        end = start + window_size\n",
    "        current_labels = labels[start:end]\n",
    "\n",
    "        # If all labels in the window are the same, accept the window\n",
    "        if np.all(current_labels == current_labels[0]):\n",
    "            window = features[start:end].T  # Shape: (6, window_size)\n",
    "            label = current_labels[0]       # Label is just that class\n",
    "            windows_list.append((window, label))\n",
    "            start += stride\n",
    "        else:\n",
    "            # Skip ahead until we find a new contiguous segment of the same activity\n",
    "            next_change = np.where(labels[start:] != labels[start])[0]\n",
    "            if len(next_change) == 0:\n",
    "                break  # No more activity changes\n",
    "            start += next_change[0]  # Move to the start of the next activity block\n",
    "\n",
    "    return windows_list"
   ]
  },
  {
   "cell_type": "code",
   "execution_count": 6,
   "id": "9202c6d9-5056-42de-b5eb-9b081313830a",
   "metadata": {},
   "outputs": [
    {
     "name": "stdout",
     "output_type": "stream",
     "text": [
      "7063\n"
     ]
    },
    {
     "data": {
      "text/plain": [
       "(6, 400)"
      ]
     },
     "execution_count": 6,
     "metadata": {},
     "output_type": "execute_result"
    }
   ],
   "source": [
    "blah = windows(dataset)\n",
    "print(len(blah))\n",
    "np.shape(blah[7062][0])"
   ]
  },
  {
   "cell_type": "code",
   "execution_count": 7,
   "id": "5df6189b-e39b-4084-806f-400dab471719",
   "metadata": {},
   "outputs": [
    {
     "data": {
      "text/plain": [
       "(7063, 6, 400)"
      ]
     },
     "execution_count": 7,
     "metadata": {},
     "output_type": "execute_result"
    }
   ],
   "source": [
    "x = [x[0] for x in blah]\n",
    "y = [x[1] for x in blah]\n",
    "\n",
    "np.shape(x)"
   ]
  },
  {
   "cell_type": "markdown",
   "id": "52466e88-5ef3-4fa9-908d-f0db3e491465",
   "metadata": {},
   "source": [
    "# Pytorch Dataset\n",
    "If using Pytorch it is useful to create datasets using their dataset structures. This may require modification if using additional transformations, or formats"
   ]
  },
  {
   "cell_type": "code",
   "execution_count": 8,
   "id": "b4523853-4a31-4c65-97c0-b1b7045a3841",
   "metadata": {},
   "outputs": [],
   "source": [
    "class MotionSense(Dataset):\n",
    "    def __init__(self, X, Y, transform=None):\n",
    "        self.X = torch.tensor(X.values)\n",
    "        self.Y = torch.tensor(Y.values)\n",
    "        self.transform = transform\n",
    "\n",
    "    def __getitem__(self, index):\n",
    "        if torch.is_tensor(index):\n",
    "            index = int(index.item())\n",
    "\n",
    "        x = self.X[index]\n",
    "        y = self.Y[index]\n",
    "\n",
    "        return x, y\n",
    "\n",
    "    def __len__(self):\n",
    "        return len(self.X)\n",
    "\n",
    "\n",
    "\n",
    "class MotionSense2(Dataset):\n",
    "    def __init__(self, X, Y, transform=None):\n",
    "        self.X = torch.tensor(X)\n",
    "        self.Y = torch.tensor(Y)\n",
    "        self.transform = transform\n",
    "\n",
    "    def __getitem__(self, index):\n",
    "        if torch.is_tensor(index):\n",
    "            index = int(index.item())\n",
    "\n",
    "        x = self.X[index]\n",
    "        y = self.Y[index]\n",
    "\n",
    "        return x, y\n",
    "\n",
    "    def __len__(self):\n",
    "        return len(self.X)"
   ]
  },
  {
   "cell_type": "markdown",
   "id": "6ddce7ee-288a-4722-8acf-28a0243eddbb",
   "metadata": {},
   "source": [
    "# Resampling\n",
    "You can split the dataset using sklearn, but you need to take care with your specific data. For example, randomly splitting raw sensor data will result in jumbled time-series signals. "
   ]
  },
  {
   "cell_type": "code",
   "execution_count": 9,
   "id": "84e1c1a6-d75f-4a12-b90e-b5b1e6559558",
   "metadata": {},
   "outputs": [
    {
     "data": {
      "text/html": [
       "<div>\n",
       "<style scoped>\n",
       "    .dataframe tbody tr th:only-of-type {\n",
       "        vertical-align: middle;\n",
       "    }\n",
       "\n",
       "    .dataframe tbody tr th {\n",
       "        vertical-align: top;\n",
       "    }\n",
       "\n",
       "    .dataframe thead th {\n",
       "        text-align: right;\n",
       "    }\n",
       "</style>\n",
       "<table border=\"1\" class=\"dataframe\">\n",
       "  <thead>\n",
       "    <tr style=\"text-align: right;\">\n",
       "      <th></th>\n",
       "      <th>attitude.roll</th>\n",
       "      <th>attitude.pitch</th>\n",
       "      <th>attitude.yaw</th>\n",
       "      <th>userAcceleration.x</th>\n",
       "      <th>userAcceleration.y</th>\n",
       "      <th>userAcceleration.z</th>\n",
       "    </tr>\n",
       "  </thead>\n",
       "  <tbody>\n",
       "    <tr>\n",
       "      <th>0</th>\n",
       "      <td>1.528132</td>\n",
       "      <td>-0.733896</td>\n",
       "      <td>0.696372</td>\n",
       "      <td>0.294894</td>\n",
       "      <td>-0.184493</td>\n",
       "      <td>0.377542</td>\n",
       "    </tr>\n",
       "    <tr>\n",
       "      <th>1</th>\n",
       "      <td>1.527992</td>\n",
       "      <td>-0.716987</td>\n",
       "      <td>0.677762</td>\n",
       "      <td>0.219405</td>\n",
       "      <td>0.035846</td>\n",
       "      <td>0.114866</td>\n",
       "    </tr>\n",
       "    <tr>\n",
       "      <th>2</th>\n",
       "      <td>1.527765</td>\n",
       "      <td>-0.706999</td>\n",
       "      <td>0.670951</td>\n",
       "      <td>0.010714</td>\n",
       "      <td>0.134701</td>\n",
       "      <td>-0.167808</td>\n",
       "    </tr>\n",
       "    <tr>\n",
       "      <th>3</th>\n",
       "      <td>1.516768</td>\n",
       "      <td>-0.704678</td>\n",
       "      <td>0.675735</td>\n",
       "      <td>-0.008389</td>\n",
       "      <td>0.136788</td>\n",
       "      <td>0.094958</td>\n",
       "    </tr>\n",
       "    <tr>\n",
       "      <th>4</th>\n",
       "      <td>1.493941</td>\n",
       "      <td>-0.703918</td>\n",
       "      <td>0.672994</td>\n",
       "      <td>0.199441</td>\n",
       "      <td>0.353996</td>\n",
       "      <td>-0.044299</td>\n",
       "    </tr>\n",
       "  </tbody>\n",
       "</table>\n",
       "</div>"
      ],
      "text/plain": [
       "   attitude.roll  attitude.pitch  attitude.yaw  userAcceleration.x  \\\n",
       "0       1.528132       -0.733896      0.696372            0.294894   \n",
       "1       1.527992       -0.716987      0.677762            0.219405   \n",
       "2       1.527765       -0.706999      0.670951            0.010714   \n",
       "3       1.516768       -0.704678      0.675735           -0.008389   \n",
       "4       1.493941       -0.703918      0.672994            0.199441   \n",
       "\n",
       "   userAcceleration.y  userAcceleration.z  \n",
       "0           -0.184493            0.377542  \n",
       "1            0.035846            0.114866  \n",
       "2            0.134701           -0.167808  \n",
       "3            0.136788            0.094958  \n",
       "4            0.353996           -0.044299  "
      ]
     },
     "execution_count": 9,
     "metadata": {},
     "output_type": "execute_result"
    }
   ],
   "source": [
    "X = dataset[dt_list[0]+dt_list[1]] # You could collect the input and target data as separate dataframes\n",
    "Y = dataset.act\n",
    "\n",
    "\n",
    "# You may be tempted to use train_test_split directly. But if using raw sensor data this would randomize the signals and not retain the order. \n",
    "X_train, X_test, Y_train, Y_test = train_test_split(X, Y, test_size=0.1, shuffle=False)\n",
    "\n",
    "X_train.head() "
   ]
  },
  {
   "cell_type": "code",
   "execution_count": 10,
   "id": "d248bc7d-6025-4931-85da-0e02de958544",
   "metadata": {},
   "outputs": [],
   "source": [
    "# Split the data - Holdout\n",
    "train_set, test_set = train_test_split(blah, test_size=0.2, shuffle=False)\n",
    "\n",
    "\n",
    "x_train = [x[0] for x in train_set]\n",
    "y_train = [x[1] for x in train_set]\n",
    "\n",
    "x_test = [x[0] for x in test_set]\n",
    "y_test = [x[1] for x in test_set]"
   ]
  },
  {
   "cell_type": "code",
   "execution_count": 11,
   "id": "0b032f59-5605-4a5d-82a1-872e99161f5c",
   "metadata": {},
   "outputs": [],
   "source": [
    "# Here is an example of the TimeSeriesSplit. It does create cross-validation data by default. \n",
    "ts_cv = TimeSeriesSplit(\n",
    "    n_splits=5,\n",
    "    gap=20,\n",
    "    max_train_size=10000,\n",
    "    test_size=1000\n",
    ")\n",
    "\n",
    "all_splits = list(ts_cv.split(X ,Y)) # These are indices, not the data itself."
   ]
  },
  {
   "cell_type": "code",
   "execution_count": 12,
   "id": "8533b2f3-5b18-4268-a76f-4fdb56af5ef9",
   "metadata": {},
   "outputs": [
    {
     "data": {
      "text/plain": [
       "5"
      ]
     },
     "execution_count": 12,
     "metadata": {},
     "output_type": "execute_result"
    }
   ],
   "source": [
    "len(all_splits)"
   ]
  },
  {
   "cell_type": "markdown",
   "id": "ffcce4b8-80e3-444c-b0ca-ae6d0833a400",
   "metadata": {},
   "source": [
    "# RANDOM FOREST TESTING ========================================="
   ]
  },
  {
   "cell_type": "code",
   "execution_count": 13,
   "id": "577eae41-a4c1-4769-bd97-c1707330953b",
   "metadata": {},
   "outputs": [],
   "source": [
    "import numpy as np\n",
    "from scipy import stats\n",
    "\n",
    "def extract_features(window):\n",
    "    \"\"\"Extract features from a single window (shape: 6 x 400).\"\"\"\n",
    "    features = []\n",
    "    for sensor_data in window:  # Loop over each of the 6 sensors\n",
    "        features.extend([\n",
    "            np.mean(sensor_data),       # Avg value\n",
    "            np.std(sensor_data),        # Standard deviation\n",
    "            np.min(sensor_data),        # Min value\n",
    "            np.max(sensor_data),        # Max value\n",
    "            np.median(sensor_data),     # Median\n",
    "            stats.skew(sensor_data),    # Skewness\n",
    "            stats.kurtosis(sensor_data) # Kurtosis\n",
    "        ])\n",
    "    return features  # Returns 6 sensors × 7 features = 42 features per window\n",
    "\n",
    "# Apply feature extraction to all windows\n",
    "X_features = np.array([extract_features(window) for window in x])\n",
    "y_labels = np.array(y)  # Shape: (7063,)"
   ]
  },
  {
   "cell_type": "code",
   "execution_count": 14,
   "id": "17558410-1d95-43f0-9bc6-832a90855055",
   "metadata": {},
   "outputs": [],
   "source": [
    "X_train = np.array([extract_features(window) for window in x_train])\n",
    "X_test = np.array([extract_features(window) for window in x_test])\n",
    "y_train = np.array(y_train)\n",
    "y_test = np.array(y_test)"
   ]
  },
  {
   "cell_type": "code",
   "execution_count": 15,
   "id": "5028e29c-5d94-4296-afa8-a14a0a04cf89",
   "metadata": {},
   "outputs": [
    {
     "name": "stdout",
     "output_type": "stream",
     "text": [
      "Test Accuracy: 0.9617834394904459\n"
     ]
    },
    {
     "data": {
      "image/png": "[encoded data removed]",
      "text/plain": [
       "<Figure size 1000x500 with 2 Axes>"
      ]
     },
     "metadata": {},
     "output_type": "display_data"
    }
   ],
   "source": [
    "from sklearn.ensemble import RandomForestClassifier\n",
    "from sklearn.metrics import accuracy_score, classification_report, confusion_matrix\n",
    "\n",
    "# Initialize and train\n",
    "rf = RandomForestClassifier(\n",
    "    n_estimators=100,  # Number of trees\n",
    "    random_state=42,   # For reproducibility\n",
    "    n_jobs=-1         # Use all CPU cores\n",
    ")\n",
    "rf.fit(X_train, y_train)\n",
    "\n",
    "# Predict on test set\n",
    "y_pred = rf.predict(X_test)\n",
    "\n",
    "\n",
    "#this is for the report ===========================================================\n",
    "from sklearn.metrics import classification_report, confusion_matrix, accuracy_score\n",
    "import seaborn as sns\n",
    "import matplotlib.pyplot as plt\n",
    "\n",
    "# Evaluation\n",
    "print(\"Test Accuracy:\", accuracy_score(y_test, y_pred))\n",
    "#print(\"\\nClassification Report:\\n\", classification_report(y_test, y_pred))\n",
    "#print(\"\\nConfusion Matrix:\\n\", confusion_matrix(y_test, y_pred))\n",
    "\n",
    "report_dict = classification_report(y_test, y_pred, output_dict=True)\n",
    "report_df = pd.DataFrame(report_dict).transpose()\n",
    "\n",
    "plt.figure(figsize=(10, 5))\n",
    "sns.heatmap(report_df.iloc[:-3, :-1], annot=True, cmap=\"Blues\", fmt=\".2f\")\n",
    "plt.title(\"Classification Report - Random Forest\")\n",
    "plt.show()\n",
    "\n",
    "\n"
   ]
  },
  {
   "cell_type": "markdown",
   "id": "9904819f-3cac-4d8e-a20f-d8364facb300",
   "metadata": {},
   "source": [
    "# Random Forest Confusion matrix"
   ]
  },
  {
   "cell_type": "code",
   "execution_count": 19,
   "id": "d9503c55-b830-4a29-a437-ea1c641819f6",
   "metadata": {},
   "outputs": [
    {
     "data": {
      "image/png": "[encoded data removed]",
      "text/plain": [
       "<Figure size 800x600 with 2 Axes>"
      ]
     },
     "metadata": {},
     "output_type": "display_data"
    }
   ],
   "source": [
    "\n",
    "# Confusion Matrix Heatmap\n",
    "plt.figure(figsize=(8, 6))\n",
    "sns.heatmap(confusion_matrix(y_test, y_pred), annot=True, fmt='d', cmap='Reds',xticklabels=ACT_LABELS, yticklabels=ACT_LABELS)\n",
    "plt.xlabel('Predicted Label')\n",
    "plt.ylabel('True Label')\n",
    "plt.title('Random Forest Confusion Matrix')\n",
    "plt.show()\n",
    "#==================================================================================\n"
   ]
  },
  {
   "cell_type": "code",
   "execution_count": 17,
   "id": "13f231db-4e22-4b58-a20d-28ad89ffd350",
   "metadata": {},
   "outputs": [
    {
     "name": "stdout",
     "output_type": "stream",
     "text": [
      "Best Params: {'max_depth': None, 'min_samples_split': 2, 'n_estimators': 100}\n"
     ]
    }
   ],
   "source": [
    "from sklearn.model_selection import GridSearchCV\n",
    "\n",
    "param_grid = {\n",
    "    'n_estimators': [50, 100, 200],\n",
    "    'max_depth': [None, 10, 20],\n",
    "    'min_samples_split': [2, 5, 10]\n",
    "}\n",
    "\n",
    "grid_search = GridSearchCV(RandomForestClassifier(random_state=42), param_grid, cv=3, n_jobs=-1)\n",
    "grid_search.fit(X_train, y_train)\n",
    "\n",
    "print(\"Best Params:\", grid_search.best_params_)\n",
    "best_rf = grid_search.best_estimator_"
   ]
  }
 ],
 "metadata": {
  "kernelspec": {
   "display_name": "Python 3 (ipykernel)",
   "language": "python",
   "name": "python3"
  },
  "language_info": {
   "codemirror_mode": {
    "name": "ipython",
    "version": 3
   },
   "file_extension": ".py",
   "mimetype": "text/x-python",
   "name": "python",
   "nbconvert_exporter": "python",
   "pygments_lexer": "ipython3",
   "version": "3.11.12"
  }
 },
 "nbformat": 4,
 "nbformat_minor": 5
}
