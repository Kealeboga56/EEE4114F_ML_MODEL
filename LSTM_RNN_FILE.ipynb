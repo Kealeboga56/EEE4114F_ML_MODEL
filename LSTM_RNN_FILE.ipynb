{
 "cells": [
  {
   "cell_type": "markdown",
   "id": "28670e37-a491-44a1-888c-4233c74708c1",
   "metadata": {},
   "source": [
    "# Human Activity Recognition\n",
    "This notebook provides some guidelines for building a classifier for the MotionSense dataset"
   ]
  },
  {
   "cell_type": "code",
   "execution_count": 1,
   "id": "ef12a734-987f-443c-9ee5-6d249699b99b",
   "metadata": {},
   "outputs": [],
   "source": [
    "import numpy as np\n",
    "import pandas as pd\n",
    "import matplotlib.pyplot as plt\n",
    "from sklearn.model_selection import train_test_split, TimeSeriesSplit\n",
    "from sklearn.preprocessing import MinMaxScaler, StandardScaler\n",
    "from sklearn.preprocessing import LabelEncoder\n",
    "import torch\n",
    "import torch.nn as nn\n",
    "import torch.nn.functional as F\n",
    "import torch.optim as optim\n",
    "from torch.utils.data import Dataset, DataLoader\n",
    "from collections import Counter"
   ]
  },
  {
   "cell_type": "code",
   "execution_count": 2,
   "id": "d237d4bd-fd1f-46b7-b9df-33a25174b049",
   "metadata": {},
   "outputs": [],
   "source": [
    "from sklearn.metrics import confusion_matrix\n",
    "import seaborn as sns\n",
    "import matplotlib.pyplot as plt\n",
    "\n",
    "def plot_confusion_matrix(y_true, y_pred, classes):\n",
    "    cm = confusion_matrix(y_true, y_pred)\n",
    "    plt.figure(figsize=(10, 8))\n",
    "    sns.heatmap(cm, annot=True, fmt='d', cmap='Blues', \n",
    "                xticklabels=classes, yticklabels=classes)\n",
    "    plt.xlabel('Predicted')\n",
    "    plt.ylabel('True')\n",
    "    plt.title('Confusion Matrix')\n",
    "    plt.show()"
   ]
  },
  {
   "cell_type": "markdown",
   "id": "fa72d7b3-3d66-4633-b173-f36a230e41e5",
   "metadata": {},
   "source": [
    "# Generate time-series data\n",
    "The original MotionSense dataset comes in a slightly cumbersome format, but the authors do provide a few functions to produce Pandas DataFrames with control over what is produced. For our purposes we are not concerned with all of the target data, as we only need to know the activity that was being recorded. "
   ]
  },
  {
   "cell_type": "code",
   "execution_count": 3,
   "id": "8ac8cc02-3859-4199-bd7f-c43f98504f5c",
   "metadata": {},
   "outputs": [],
   "source": [
    "def get_ds_infos():\n",
    "    \"\"\"\n",
    "    Read the file includes data subject information.\n",
    "\n",
    "    EEE4114: Technically we do not need these data, as we are not concerned about identifying the subjects. \n",
    "    \n",
    "    Data Columns:\n",
    "    0: code [1-24]\n",
    "    1: weight [kg]\n",
    "    2: height [cm]\n",
    "    3: age [years]\n",
    "    4: gender [0:Female, 1:Male]\n",
    "    \n",
    "    Returns:\n",
    "        A pandas DataFrame that contains information about data subjects' attributes \n",
    "    \"\"\" \n",
    "\n",
    "    dss = pd.read_csv(\"../data/data_subjects_info.csv\")\n",
    "    print(\"[INFO] -- Data subjects' information is imported.\")\n",
    "    \n",
    "    return dss\n",
    "\n",
    "def set_data_types(data_types=[\"userAcceleration\"]):\n",
    "    \"\"\"\n",
    "    Select the sensors and the mode to shape the final dataset. \n",
    "\n",
    "    EEE4114F: Choose sensors that you think are useful or would like to include in training. \n",
    "    You can choose all of them, or you could opt to try a limited set of input features\n",
    "    \n",
    "    Args:\n",
    "        data_types: A list of sensor data type from this list: [attitude, gravity, rotationRate, userAcceleration] \n",
    "\n",
    "    Returns:\n",
    "        It returns a list of columns to use for creating time-series from files.\n",
    "    \"\"\"\n",
    "    dt_list = []\n",
    "    for t in data_types:\n",
    "        if t != \"attitude\":\n",
    "            dt_list.append([t+\".x\",t+\".y\",t+\".z\"])\n",
    "        else:\n",
    "            dt_list.append([t+\".roll\", t+\".pitch\", t+\".yaw\"])\n",
    "\n",
    "    return dt_list\n",
    "\n",
    "\n",
    "def create_time_series(dt_list, act_labels, trial_codes, mode=\"mag\", labeled=True):\n",
    "    \"\"\"\n",
    "    EEE4114F: This defines what data you would like to include for a given set.  \n",
    "\n",
    "    Args:\n",
    "        dt_list: A list of columns that shows the type of data we want.\n",
    "        act_labels: list of activites\n",
    "        trial_codes: list of trials\n",
    "        mode: It can be \"raw\" which means you want raw data\n",
    "        for every dimension of each data type,\n",
    "        [attitude(roll, pitch, yaw); gravity(x, y, z); rotationRate(x, y, z); userAcceleration(x,y,z)].\n",
    "        or it can be \"mag\" which means you only want the magnitude for each data type: (x^2+y^2+z^2)^(1/2)\n",
    "        labeled: True, if we want a labeled dataset. False, if we only want sensor values.\n",
    "\n",
    "    Returns:\n",
    "        It returns a time-series of sensor data.\n",
    "    \n",
    "    \"\"\"\n",
    "    num_data_cols = len(dt_list) if mode == \"mag\" else len(dt_list*3)\n",
    "\n",
    "    if labeled:\n",
    "        dataset = np.zeros((0,num_data_cols+1)) # \"1\" --> [act] we do not need the other labels\n",
    "    else:\n",
    "        dataset = np.zeros((0,num_data_cols))\n",
    "        \n",
    "    ds_list = get_ds_infos()\n",
    "    \n",
    "    print(\"[INFO] -- Creating Time-Series\")\n",
    "    for sub_id in ds_list[\"code\"]:\n",
    "        for act_id, act in enumerate(act_labels):\n",
    "            for trial in trial_codes[act_id]:\n",
    "                fname = '../data/A_DeviceMotion_data/'+act+'_'+str(trial)+'/sub_'+str(int(sub_id))+'.csv'\n",
    "                raw_data = pd.read_csv(fname)\n",
    "                raw_data = raw_data.drop(['Unnamed: 0'], axis=1)\n",
    "                vals = np.zeros((len(raw_data), num_data_cols))\n",
    "                for x_id, axes in enumerate(dt_list):\n",
    "                    if mode == \"mag\":\n",
    "                        vals[:,x_id] = (raw_data[axes]**2).sum(axis=1)**0.5        \n",
    "                    else:\n",
    "                        vals[:,x_id*3:(x_id+1)*3] = raw_data[axes].values\n",
    "                    vals = vals[:,:num_data_cols]\n",
    "                if labeled:\n",
    "                    lbls = np.array([[act_id]]*len(raw_data))\n",
    "                    vals = np.concatenate((vals, lbls), axis=1)\n",
    "                dataset = np.append(dataset,vals, axis=0)\n",
    "    cols = []\n",
    "    for axes in dt_list:\n",
    "        if mode == \"raw\":\n",
    "            cols += axes\n",
    "        else:\n",
    "            cols += [str(axes[0][:-2])]\n",
    "            \n",
    "    if labeled:\n",
    "        cols += [\"act\"]\n",
    "    \n",
    "    dataset = pd.DataFrame(data=dataset, columns=cols)\n",
    "    return dataset"
   ]
  },
  {
   "cell_type": "code",
   "execution_count": 4,
   "id": "3f458b81-bf69-4cfd-85d6-f54df24306ee",
   "metadata": {},
   "outputs": [
    {
     "name": "stdout",
     "output_type": "stream",
     "text": [
      "[INFO] -- Selected sensor data types: ['attitude', 'userAcceleration']\n",
      "[INFO] -- Selected activites: ['dws', 'ups', 'wlk', 'jog', 'std', 'sit']\n",
      "[INFO] -- Data subjects' information is imported.\n",
      "[INFO] -- Creating Time-Series\n",
      "[INFO] -- Shape of time-Series dataset:(1412865, 7)\n"
     ]
    },
    {
     "data": {
      "text/html": [
       "<div>\n",
       "<style scoped>\n",
       "    .dataframe tbody tr th:only-of-type {\n",
       "        vertical-align: middle;\n",
       "    }\n",
       "\n",
       "    .dataframe tbody tr th {\n",
       "        vertical-align: top;\n",
       "    }\n",
       "\n",
       "    .dataframe thead th {\n",
       "        text-align: right;\n",
       "    }\n",
       "</style>\n",
       "<table border=\"1\" class=\"dataframe\">\n",
       "  <thead>\n",
       "    <tr style=\"text-align: right;\">\n",
       "      <th></th>\n",
       "      <th>attitude.roll</th>\n",
       "      <th>attitude.pitch</th>\n",
       "      <th>attitude.yaw</th>\n",
       "      <th>userAcceleration.x</th>\n",
       "      <th>userAcceleration.y</th>\n",
       "      <th>userAcceleration.z</th>\n",
       "      <th>act</th>\n",
       "    </tr>\n",
       "  </thead>\n",
       "  <tbody>\n",
       "    <tr>\n",
       "      <th>0</th>\n",
       "      <td>1.528132</td>\n",
       "      <td>-0.733896</td>\n",
       "      <td>0.696372</td>\n",
       "      <td>0.294894</td>\n",
       "      <td>-0.184493</td>\n",
       "      <td>0.377542</td>\n",
       "      <td>0.0</td>\n",
       "    </tr>\n",
       "    <tr>\n",
       "      <th>1</th>\n",
       "      <td>1.527992</td>\n",
       "      <td>-0.716987</td>\n",
       "      <td>0.677762</td>\n",
       "      <td>0.219405</td>\n",
       "      <td>0.035846</td>\n",
       "      <td>0.114866</td>\n",
       "      <td>0.0</td>\n",
       "    </tr>\n",
       "    <tr>\n",
       "      <th>2</th>\n",
       "      <td>1.527765</td>\n",
       "      <td>-0.706999</td>\n",
       "      <td>0.670951</td>\n",
       "      <td>0.010714</td>\n",
       "      <td>0.134701</td>\n",
       "      <td>-0.167808</td>\n",
       "      <td>0.0</td>\n",
       "    </tr>\n",
       "    <tr>\n",
       "      <th>3</th>\n",
       "      <td>1.516768</td>\n",
       "      <td>-0.704678</td>\n",
       "      <td>0.675735</td>\n",
       "      <td>-0.008389</td>\n",
       "      <td>0.136788</td>\n",
       "      <td>0.094958</td>\n",
       "      <td>0.0</td>\n",
       "    </tr>\n",
       "    <tr>\n",
       "      <th>4</th>\n",
       "      <td>1.493941</td>\n",
       "      <td>-0.703918</td>\n",
       "      <td>0.672994</td>\n",
       "      <td>0.199441</td>\n",
       "      <td>0.353996</td>\n",
       "      <td>-0.044299</td>\n",
       "      <td>0.0</td>\n",
       "    </tr>\n",
       "  </tbody>\n",
       "</table>\n",
       "</div>"
      ],
      "text/plain": [
       "   attitude.roll  attitude.pitch  attitude.yaw  userAcceleration.x  \\\n",
       "0       1.528132       -0.733896      0.696372            0.294894   \n",
       "1       1.527992       -0.716987      0.677762            0.219405   \n",
       "2       1.527765       -0.706999      0.670951            0.010714   \n",
       "3       1.516768       -0.704678      0.675735           -0.008389   \n",
       "4       1.493941       -0.703918      0.672994            0.199441   \n",
       "\n",
       "   userAcceleration.y  userAcceleration.z  act  \n",
       "0           -0.184493            0.377542  0.0  \n",
       "1            0.035846            0.114866  0.0  \n",
       "2            0.134701           -0.167808  0.0  \n",
       "3            0.136788            0.094958  0.0  \n",
       "4            0.353996           -0.044299  0.0  "
      ]
     },
     "execution_count": 4,
     "metadata": {},
     "output_type": "execute_result"
    }
   ],
   "source": [
    "ACT_LABELS = [\"dws\",\"ups\", \"wlk\", \"jog\", \"std\", \"sit\"]\n",
    "TRIAL_CODES = {\n",
    "    ACT_LABELS[0]:[1,2,11],\n",
    "    ACT_LABELS[1]:[3,4,12],\n",
    "    ACT_LABELS[2]:[7,8,15],\n",
    "    ACT_LABELS[3]:[9,16],\n",
    "    ACT_LABELS[4]:[6,14],\n",
    "    ACT_LABELS[5]:[5,13]\n",
    "}\n",
    "\n",
    "## Here we set parameter to build labeled time-series from dataset of \"(A)DeviceMotion_data\"\n",
    "## attitude(roll, pitch, yaw); gravity(x, y, z); rotationRate(x, y, z); userAcceleration(x,y,z)\n",
    "sdt = [\"attitude\", \"userAcceleration\"]\n",
    "print(\"[INFO] -- Selected sensor data types: \"+str(sdt))    \n",
    "act_labels = ACT_LABELS #[0:4]\n",
    "print(\"[INFO] -- Selected activites: \"+str(act_labels))    \n",
    "trial_codes = [TRIAL_CODES[act] for act in act_labels]\n",
    "dt_list = set_data_types(sdt)\n",
    "dataset = create_time_series(dt_list, act_labels, trial_codes, mode=\"raw\", labeled=True)\n",
    "print(\"[INFO] -- Shape of time-Series dataset:\"+str(dataset.shape))    \n",
    "dataset.head()"
   ]
  },
  {
   "cell_type": "code",
   "execution_count": 5,
   "id": "f0bac6de-81da-4190-b65b-1080cd71ce9c",
   "metadata": {},
   "outputs": [
    {
     "name": "stdout",
     "output_type": "stream",
     "text": [
      "7063\n"
     ]
    },
    {
     "data": {
      "text/plain": [
       "(7063, 6, 400)"
      ]
     },
     "execution_count": 5,
     "metadata": {},
     "output_type": "execute_result"
    }
   ],
   "source": [
    "def windows(dataset, window_size=400, stride=200):\n",
    "    \"\"\"\n",
    "    Create fixed-length windows of the input data. \n",
    "\n",
    "    Args:\n",
    "        dataset: DataFrame of the time-series data\n",
    "        size: (int) the size of the windows in number of samples.\n",
    "        stride: (int) the stride length of the windows. \n",
    "\n",
    "    Returns:\n",
    "        windows_df: DataFrame of the windowed time-series data. Each window should have the shape (n_sensors, window_size). \n",
    "            The number of examples will change depending on the stride.    \n",
    "\n",
    "    \"\"\"\n",
    "\n",
    "    features = dataset.iloc[:, :-1].values  # Shape: (N, 6)\n",
    "    labels = dataset.iloc[:, -1].values     # Shape: (N,)\n",
    "    \n",
    "    windows_list = []\n",
    "    \n",
    "    for start in range(0, len(dataset) - window_size + 1, stride):\n",
    "        end = start + window_size\n",
    "        window = features[start:end].T  # Transpose to shape (6, window_size)\n",
    "        window_labels = labels[start:end]\n",
    "        label = Counter(window_labels).most_common(1)[0][0]  # Mode label\n",
    "        windows_list.append((window, label))\n",
    "\n",
    "    return windows_list\n",
    "\n",
    "\n",
    "\n",
    "#====================================================================================\n",
    "\n",
    "def windows_no_event_overlap(dataset, window_size=400, stride=200):\n",
    "    features = dataset.iloc[:, :-1].values  # All sensor columns (shape: N x 6)\n",
    "    labels = dataset.iloc[:, -1].values     # Activity labels (shape: N,)\n",
    "\n",
    "    windows_list = []\n",
    "    start = 0\n",
    "    N = len(dataset)\n",
    "\n",
    "    while start + window_size <= N:\n",
    "        end = start + window_size\n",
    "        current_labels = labels[start:end]\n",
    "\n",
    "        # If all labels in the window are the same, accept the window\n",
    "        if np.all(current_labels == current_labels[0]):\n",
    "            window = features[start:end].T  # Shape: (6, window_size)\n",
    "            label = current_labels[0]       # Label is just that class\n",
    "            windows_list.append((window, label))\n",
    "            start += stride\n",
    "        else:\n",
    "            # Skip ahead until we find a new contiguous segment of the same activity\n",
    "            next_change = np.where(labels[start:] != labels[start])[0]\n",
    "            if len(next_change) == 0:\n",
    "                break  # No more activity changes\n",
    "            start += next_change[0]  # Move to the start of the next activity block\n",
    "\n",
    "    return windows_list\n",
    "    \n",
    "#========================================================================================\n",
    "\n",
    "blah = windows(dataset)\n",
    "print(len(blah))\n",
    "np.shape(blah[7062][0])\n",
    "\n",
    "#========================================================================================\n",
    "\n",
    "x = [x[0] for x in blah]\n",
    "y = [x[1] for x in blah]\n",
    "np.shape(x)"
   ]
  },
  {
   "cell_type": "code",
   "execution_count": 6,
   "id": "ce81c325-2731-4d90-ac47-8961d4e95adc",
   "metadata": {},
   "outputs": [],
   "source": [
    "#========================================================================================\n",
    "\n",
    "class MotionSense(Dataset):\n",
    "    def __init__(self, X, Y, transform=None):\n",
    "        self.X = torch.tensor(X.values)\n",
    "        self.Y = torch.tensor(Y.values)\n",
    "        self.transform = transform\n",
    "\n",
    "    def __getitem__(self, index):\n",
    "        if torch.is_tensor(index):\n",
    "            index = int(index.item())\n",
    "\n",
    "        x = self.X[index]\n",
    "        y = self.Y[index]\n",
    "\n",
    "        return x, y\n",
    "\n",
    "    def __len__(self):\n",
    "        return len(self.X)\n",
    "\n",
    "#========================================================================================\n",
    "\n",
    "class MotionSense2(Dataset):\n",
    "    def __init__(self, X, Y, transform=None):\n",
    "        self.X = torch.tensor(X)\n",
    "        self.Y = torch.tensor(Y)\n",
    "        self.transform = transform\n",
    "\n",
    "    def __getitem__(self, index):\n",
    "        if torch.is_tensor(index):\n",
    "            index = int(index.item())\n",
    "\n",
    "        x = self.X[index]\n",
    "        y = self.Y[index]\n",
    "\n",
    "        return x, y\n",
    "\n",
    "    def __len__(self):\n",
    "        return len(self.X)"
   ]
  },
  {
   "cell_type": "code",
   "execution_count": 7,
   "id": "49eafc9b-6bfc-4aad-8712-554defcb65a7",
   "metadata": {},
   "outputs": [
    {
     "data": {
      "text/html": [
       "<div>\n",
       "<style scoped>\n",
       "    .dataframe tbody tr th:only-of-type {\n",
       "        vertical-align: middle;\n",
       "    }\n",
       "\n",
       "    .dataframe tbody tr th {\n",
       "        vertical-align: top;\n",
       "    }\n",
       "\n",
       "    .dataframe thead th {\n",
       "        text-align: right;\n",
       "    }\n",
       "</style>\n",
       "<table border=\"1\" class=\"dataframe\">\n",
       "  <thead>\n",
       "    <tr style=\"text-align: right;\">\n",
       "      <th></th>\n",
       "      <th>attitude.roll</th>\n",
       "      <th>attitude.pitch</th>\n",
       "      <th>attitude.yaw</th>\n",
       "      <th>userAcceleration.x</th>\n",
       "      <th>userAcceleration.y</th>\n",
       "      <th>userAcceleration.z</th>\n",
       "    </tr>\n",
       "  </thead>\n",
       "  <tbody>\n",
       "    <tr>\n",
       "      <th>0</th>\n",
       "      <td>1.528132</td>\n",
       "      <td>-0.733896</td>\n",
       "      <td>0.696372</td>\n",
       "      <td>0.294894</td>\n",
       "      <td>-0.184493</td>\n",
       "      <td>0.377542</td>\n",
       "    </tr>\n",
       "    <tr>\n",
       "      <th>1</th>\n",
       "      <td>1.527992</td>\n",
       "      <td>-0.716987</td>\n",
       "      <td>0.677762</td>\n",
       "      <td>0.219405</td>\n",
       "      <td>0.035846</td>\n",
       "      <td>0.114866</td>\n",
       "    </tr>\n",
       "    <tr>\n",
       "      <th>2</th>\n",
       "      <td>1.527765</td>\n",
       "      <td>-0.706999</td>\n",
       "      <td>0.670951</td>\n",
       "      <td>0.010714</td>\n",
       "      <td>0.134701</td>\n",
       "      <td>-0.167808</td>\n",
       "    </tr>\n",
       "    <tr>\n",
       "      <th>3</th>\n",
       "      <td>1.516768</td>\n",
       "      <td>-0.704678</td>\n",
       "      <td>0.675735</td>\n",
       "      <td>-0.008389</td>\n",
       "      <td>0.136788</td>\n",
       "      <td>0.094958</td>\n",
       "    </tr>\n",
       "    <tr>\n",
       "      <th>4</th>\n",
       "      <td>1.493941</td>\n",
       "      <td>-0.703918</td>\n",
       "      <td>0.672994</td>\n",
       "      <td>0.199441</td>\n",
       "      <td>0.353996</td>\n",
       "      <td>-0.044299</td>\n",
       "    </tr>\n",
       "  </tbody>\n",
       "</table>\n",
       "</div>"
      ],
      "text/plain": [
       "   attitude.roll  attitude.pitch  attitude.yaw  userAcceleration.x  \\\n",
       "0       1.528132       -0.733896      0.696372            0.294894   \n",
       "1       1.527992       -0.716987      0.677762            0.219405   \n",
       "2       1.527765       -0.706999      0.670951            0.010714   \n",
       "3       1.516768       -0.704678      0.675735           -0.008389   \n",
       "4       1.493941       -0.703918      0.672994            0.199441   \n",
       "\n",
       "   userAcceleration.y  userAcceleration.z  \n",
       "0           -0.184493            0.377542  \n",
       "1            0.035846            0.114866  \n",
       "2            0.134701           -0.167808  \n",
       "3            0.136788            0.094958  \n",
       "4            0.353996           -0.044299  "
      ]
     },
     "execution_count": 7,
     "metadata": {},
     "output_type": "execute_result"
    }
   ],
   "source": [
    "X = dataset[dt_list[0]+dt_list[1]] # You could collect the input and target data as separate dataframes\n",
    "Y = dataset.act\n",
    "\n",
    "# You may be tempted to use train_test_split directly. But if using raw sensor data this would randomize the signals and not retain the order. \n",
    "X_train, X_test, Y_train, Y_test = train_test_split(X, Y, test_size=0.1, shuffle=False) \n",
    "\n",
    "X_train.head() "
   ]
  },
  {
   "cell_type": "code",
   "execution_count": 8,
   "id": "46a6cbfb-f08c-47f9-988e-ad93e224eeba",
   "metadata": {},
   "outputs": [],
   "source": [
    "# Split the data - Holdout\n",
    "train_set, test_set = train_test_split(blah, test_size=0.2, shuffle=False)\n",
    "\n",
    "\n",
    "x_train = [x[0] for x in train_set]\n",
    "y_train = [x[1] for x in train_set]\n",
    "\n",
    "x_test = [x[0] for x in test_set]\n",
    "y_test = [x[1] for x in test_set]"
   ]
  },
  {
   "cell_type": "code",
   "execution_count": 9,
   "id": "fe093b8c-9658-4d99-bb1d-a1f59e8cf5b4",
   "metadata": {},
   "outputs": [
    {
     "name": "stderr",
     "output_type": "stream",
     "text": [
      "/tmp/ipykernel_301082/92527168.py:25: UserWarning: Creating a tensor from a list of numpy.ndarrays is extremely slow. Please consider converting the list to a single numpy.ndarray with numpy.array() before converting to a tensor. (Triggered internally at /pytorch/torch/csrc/utils/tensor_new.cpp:254.)\n",
      "  self.X = torch.tensor(X)\n"
     ]
    },
    {
     "data": {
      "text/plain": [
       "(10000, 7)"
      ]
     },
     "execution_count": 9,
     "metadata": {},
     "output_type": "execute_result"
    }
   ],
   "source": [
    "#========================================================================================\n",
    "\n",
    "# Here is an example of the TimeSeriesSplit. It does create cross-validation data by default. \n",
    "ts_cv = TimeSeriesSplit(\n",
    "    n_splits=5,\n",
    "    gap=20,\n",
    "    max_train_size=10000,\n",
    "    test_size=1000\n",
    ")\n",
    "\n",
    "all_splits = list(ts_cv.split(X ,Y)) # These are indices, not the data itself.\n",
    "\n",
    "\n",
    "#========================================================================================\n",
    "\n",
    "len(all_splits)\n",
    "\n",
    "\n",
    "#========================================================================================\n",
    "\n",
    "X.iloc[all_splits[0][0]].head() # This is the training input data from the first split\n",
    "#print(all_splits)\n",
    "\n",
    "#========================================================================================\n",
    "Y.iloc[all_splits[0][0]].head() # This is the training target data from the first split. You can see the indices still match, and arre ordered correctly.\n",
    "\n",
    "#========================================================================================\n",
    "dataset.iloc[all_splits[0][0]]\n",
    "\n",
    "\n",
    "\n",
    "#========================================================================================\n",
    "train_1 = MotionSense(X.iloc[all_splits[0][0]].reset_index(drop=True), Y.iloc[all_splits[0][0]].reset_index(drop=True)) # reset_index is to make sure each new set is indexed from 0\n",
    "train_1_loader = DataLoader(train_1, batch_size=5)  # Will load data in batches. Batching raw signals can be problematic if it cuts-off a given signal, or stitches it together with other signals etc.\n",
    "\n",
    "#========================================================================================\n",
    "train_1 = MotionSense2(x_train, y_train) # reset_index is to make sure each new set is indexed from 0\n",
    "train_1_loader = DataLoader(train_1, batch_size=5)  # Will load data in batches. Batching raw signals can be problematic if it cuts-off a given signal, or stitches it together with other signals etc.\n",
    "\n",
    "#========================================================================================\n",
    "train_1_loader\n",
    "\n",
    "\n",
    "#========================================================================================\n",
    "#for X, Y in train_1_loader:\n",
    "#    print(f\"X={X}, Y={Y}\")\n",
    "dataset.iloc[all_splits[0][0]].shape"
   ]
  },
  {
   "cell_type": "markdown",
   "id": "92faea0a-f883-455a-a800-ba36937276ec",
   "metadata": {},
   "source": [
    "# 1. Data Preparation for LSTM\n",
    "\n",
    "LSTMs expect input shape (samples, timesteps, features). We'll reshape your windowed data accordingly:"
   ]
  },
  {
   "cell_type": "code",
   "execution_count": 10,
   "id": "4cf67e6b-daf7-4260-a5f4-792c258c60c6",
   "metadata": {},
   "outputs": [],
   "source": [
    "import numpy as np\n",
    "import torch\n",
    "import torch.nn as nn\n",
    "from torch.utils.data import DataLoader, TensorDataset\n",
    "\n",
    "# Convert your existing windows to LSTM-friendly format\n",
    "# x_train shape: [num_samples, 6, 400] -> [num_samples, 400, 6] (LSTM expects seq_len first)\n",
    "X_train_lstm = np.array([window.T for window in x_train])  # Transpose to (samples, 400, 6)\n",
    "X_test_lstm = np.array([window.T for window in x_test])    # Same for test set\n",
    "\n",
    "# Convert labels to tensors\n",
    "y_train_lstm = torch.LongTensor(y_train)\n",
    "y_test_lstm = torch.LongTensor(y_test)\n",
    "\n",
    "# Create PyTorch datasets\n",
    "train_dataset = TensorDataset(torch.FloatTensor(X_train_lstm), y_train_lstm)\n",
    "test_dataset = TensorDataset(torch.FloatTensor(X_test_lstm), y_test_lstm)\n",
    "\n",
    "# Data loaders\n",
    "batch_size = 64\n",
    "train_loader = DataLoader(train_dataset, batch_size=batch_size, shuffle=True)\n",
    "test_loader = DataLoader(test_dataset, batch_size=batch_size)"
   ]
  },
  {
   "cell_type": "markdown",
   "id": "7e626d97-532e-46bd-a605-cf434a02ae0d",
   "metadata": {},
   "source": [
    "# 2. LSTM Model Architecture\n",
    "\n",
    "We'll use a bidirectional LSTM to capture both past and future context:"
   ]
  },
  {
   "cell_type": "code",
   "execution_count": 11,
   "id": "b571b2f5-7289-4c69-a806-997bf1acae38",
   "metadata": {},
   "outputs": [],
   "source": [
    "class HAR_LSTM(nn.Module):\n",
    "    def __init__(self, input_dim=6, hidden_dim=128, num_layers=2, num_classes=6):\n",
    "        super(HAR_LSTM, self).__init__()\n",
    "        self.lstm = nn.LSTM(\n",
    "            input_size=input_dim,\n",
    "            hidden_size=hidden_dim,\n",
    "            num_layers=num_layers,\n",
    "            bidirectional=True,\n",
    "            batch_first=True\n",
    "        )\n",
    "        self.fc = nn.Linear(hidden_dim * 2, num_classes)  # *2 for bidirectional\n",
    "\n",
    "    def forward(self, x):\n",
    "        # LSTM layer\n",
    "        lstm_out, _ = self.lstm(x)  # lstm_out shape: [batch, seq_len, hidden_dim*2]\n",
    "        \n",
    "        # Use only the last timestep's output\n",
    "        last_output = lstm_out[:, -1, :]\n",
    "        \n",
    "        # Fully connected layer\n",
    "        return self.fc(last_output)"
   ]
  },
  {
   "cell_type": "markdown",
   "id": "ae6af1f3-65c9-41a7-9ef6-05bcb615c43e",
   "metadata": {},
   "source": [
    "# 3. Training the LSTM"
   ]
  },
  {
   "cell_type": "code",
   "execution_count": 12,
   "id": "01700809-faba-43a8-8f2b-f09735fdfaee",
   "metadata": {},
   "outputs": [
    {
     "name": "stdout",
     "output_type": "stream",
     "text": [
      "Epoch 1/20, Loss: 121.2248, Accuracy: 46.09%\n",
      "Epoch 2/20, Loss: 108.9469, Accuracy: 53.24%\n",
      "Epoch 3/20, Loss: 95.6634, Accuracy: 59.95%\n",
      "Epoch 4/20, Loss: 65.3754, Accuracy: 73.61%\n",
      "Epoch 5/20, Loss: 57.8953, Accuracy: 76.44%\n",
      "Epoch 6/20, Loss: 46.3076, Accuracy: 79.88%\n",
      "Epoch 7/20, Loss: 52.5027, Accuracy: 78.90%\n",
      "Epoch 8/20, Loss: 43.5873, Accuracy: 82.34%\n",
      "Epoch 9/20, Loss: 45.9579, Accuracy: 81.42%\n",
      "Epoch 10/20, Loss: 66.0357, Accuracy: 74.30%\n",
      "Epoch 11/20, Loss: 50.9386, Accuracy: 79.35%\n",
      "Epoch 12/20, Loss: 47.8925, Accuracy: 80.64%\n",
      "Epoch 13/20, Loss: 71.9039, Accuracy: 73.17%\n",
      "Epoch 14/20, Loss: 54.2412, Accuracy: 78.85%\n",
      "Epoch 15/20, Loss: 44.4288, Accuracy: 81.29%\n",
      "Epoch 16/20, Loss: 37.7769, Accuracy: 84.65%\n",
      "Epoch 17/20, Loss: 33.6931, Accuracy: 86.50%\n",
      "Epoch 18/20, Loss: 30.2102, Accuracy: 88.07%\n",
      "Epoch 19/20, Loss: 52.7748, Accuracy: 80.04%\n",
      "Epoch 20/20, Loss: 86.2427, Accuracy: 64.67%\n"
     ]
    }
   ],
   "source": [
    "device = torch.device(\"cuda\" if torch.cuda.is_available() else \"cpu\")\n",
    "model = HAR_LSTM().to(device)\n",
    "criterion = nn.CrossEntropyLoss()\n",
    "optimizer = torch.optim.Adam(model.parameters(), lr=0.001)\n",
    "\n",
    "# Training loop\n",
    "lstm_train_acc = []\n",
    "num_epochs = 20\n",
    "for epoch in range(num_epochs):\n",
    "    model.train()\n",
    "    total_loss = 0\n",
    "    correct = 0\n",
    "    \n",
    "    for batch_x, batch_y in train_loader:\n",
    "        batch_x, batch_y = batch_x.to(device), batch_y.to(device)\n",
    "        \n",
    "        optimizer.zero_grad()\n",
    "        outputs = model(batch_x)\n",
    "        loss = criterion(outputs, batch_y)\n",
    "        loss.backward()\n",
    "        optimizer.step()\n",
    "        \n",
    "        total_loss += loss.item()\n",
    "        _, predicted = torch.max(outputs.data, 1)\n",
    "        correct += (predicted == batch_y).sum().item()\n",
    "    \n",
    "    train_acc = 100 * correct / len(train_dataset)\n",
    "    lstm_train_acc.append(train_acc)\n",
    "    print(f\"Epoch {epoch+1}/{num_epochs}, Loss: {total_loss:.4f}, Accuracy: {train_acc:.2f}%\")"
   ]
  },
  {
   "cell_type": "markdown",
   "id": "728f9fb6-3b5a-4bc0-ba50-16e7cf206ac0",
   "metadata": {},
   "source": [
    "# Accuracy plot"
   ]
  },
  {
   "cell_type": "code",
   "execution_count": 13,
   "id": "e46dd531-1487-499f-b4aa-53daa32c04b2",
   "metadata": {},
   "outputs": [
    {
     "data": {
      "image/png": "[encoded data removed]",
      "text/plain": [
       "<Figure size 600x400 with 1 Axes>"
      ]
     },
     "metadata": {},
     "output_type": "display_data"
    }
   ],
   "source": [
    "plt.figure(figsize=(6, 4))\n",
    "plt.plot(range(1, num_epochs+1), lstm_train_acc, marker='o')\n",
    "plt.title('LSTM Training Accuracy')\n",
    "plt.xlabel('Epoch')\n",
    "plt.ylabel('Accuracy (%)')\n",
    "plt.grid()\n",
    "plt.show()\n"
   ]
  },
  {
   "cell_type": "markdown",
   "id": "20049550-9a53-4ba3-ac1e-a6a670e8933a",
   "metadata": {},
   "source": [
    "# Confusion matrics"
   ]
  },
  {
   "cell_type": "code",
   "execution_count": 15,
   "id": "1f404ee9-28c3-4f4a-b368-ea063f209a49",
   "metadata": {},
   "outputs": [
    {
     "data": {
      "image/png": "[encoded data removed]",
      "text/plain": [
       "<Figure size 1000x800 with 2 Axes>"
      ]
     },
     "metadata": {},
     "output_type": "display_data"
    }
   ],
   "source": [
    "\n",
    "\n",
    "\n",
    "model.eval()\n",
    "all_preds = []\n",
    "all_true = []\n",
    "with torch.no_grad():\n",
    "    for batch_x, batch_y in test_loader:\n",
    "        batch_x, batch_y = batch_x.to(device), batch_y.to(device)\n",
    "        outputs = model(batch_x)\n",
    "        _, preds = torch.max(outputs, 1)\n",
    "        all_preds.extend(preds.cpu().numpy())\n",
    "        all_true.extend(batch_y.cpu().numpy())\n",
    "\n",
    "plot_confusion_matrix(all_true, all_preds, classes=ACT_LABELS)"
   ]
  },
  {
   "cell_type": "code",
   "execution_count": 16,
   "id": "f5b80834-842e-4e97-b464-47abd3cb8404",
   "metadata": {},
   "outputs": [
    {
     "name": "stdout",
     "output_type": "stream",
     "text": [
      "              precision    recall  f1-score      support\n",
      "dws            0.289474  0.089431  0.136646   123.000000\n",
      "ups            0.428571  0.035294  0.065217   170.000000\n",
      "wlk            0.483766  0.832402  0.611910   358.000000\n",
      "jog            0.642202  0.486111  0.553360   144.000000\n",
      "std            0.805471  0.833333  0.819165   318.000000\n",
      "sit            0.957655  0.980000  0.968699   300.000000\n",
      "accuracy       0.668082  0.668082  0.668082     0.668082\n",
      "macro avg      0.601190  0.542762  0.525833  1413.000000\n",
      "weighted avg   0.649373  0.668082  0.621193  1413.000000\n"
     ]
    }
   ],
   "source": [
    "from sklearn.metrics import classification_report\n",
    "import pandas as pd\n",
    "import seaborn as sns\n",
    "import matplotlib.pyplot as plt\n",
    "\n",
    "# Generate classification report\n",
    "report = classification_report(all_true, all_preds, target_names=ACT_LABELS, output_dict=True)\n",
    "df_report = pd.DataFrame(report).transpose()\n",
    "\n",
    "# Print table in text\n",
    "print(df_report)"
   ]
  },
  {
   "cell_type": "code",
   "execution_count": 17,
   "id": "e08c9e9a-b269-42ff-97ae-418b983846b2",
   "metadata": {},
   "outputs": [
    {
     "data": {
      "image/png": "[encoded data removed]",
      "text/plain": [
       "<Figure size 1000x600 with 2 Axes>"
      ]
     },
     "metadata": {},
     "output_type": "display_data"
    }
   ],
   "source": [
    "plt.figure(figsize=(10, 6))\n",
    "sns.heatmap(df_report.iloc[:-3, :-1], annot=True, cmap=\"Blues\", fmt=\".2f\")\n",
    "plt.title(\"LSTM Classification Report (Precision, Recall, F1)\")\n",
    "plt.tight_layout()\n",
    "plt.show()\n"
   ]
  },
  {
   "cell_type": "code",
   "execution_count": 19,
   "id": "9875cc04-70d9-42f6-a130-bfed43284c35",
   "metadata": {},
   "outputs": [
    {
     "name": "stdout",
     "output_type": "stream",
     "text": [
      "{'Model': 'LSTM', 'Accuracy': 0.6681, 'Precision': 0.6012, 'Recall': 0.5428, 'F1-Score': 0.5258}\n"
     ]
    }
   ],
   "source": [
    "lstm_metrics = {\n",
    "    \"Model\": \"LSTM\",\n",
    "    \"Accuracy\": round(test_acc / 100, 4),\n",
    "    \"Precision\": round(report[\"macro avg\"][\"precision\"], 4),\n",
    "    \"Recall\": round(report[\"macro avg\"][\"recall\"], 4),\n",
    "    \"F1-Score\": round(report[\"macro avg\"][\"f1-score\"], 4)\n",
    "}\n",
    "print(lstm_metrics)\n"
   ]
  },
  {
   "cell_type": "markdown",
   "id": "6a3732e9-9870-47d6-b4d5-70b29753a2d3",
   "metadata": {},
   "source": [
    "# 4. Evaluation"
   ]
  },
  {
   "cell_type": "code",
   "execution_count": 20,
   "id": "5a73cb56-ff83-4bc1-b3f5-59ba3578d1d1",
   "metadata": {},
   "outputs": [
    {
     "name": "stdout",
     "output_type": "stream",
     "text": [
      "Test Accuracy: 66.81%\n"
     ]
    }
   ],
   "source": [
    "model.eval()\n",
    "correct = 0\n",
    "with torch.no_grad():\n",
    "    for batch_x, batch_y in test_loader:\n",
    "        batch_x, batch_y = batch_x.to(device), batch_y.to(device)\n",
    "        outputs = model(batch_x)\n",
    "        _, predicted = torch.max(outputs.data, 1)\n",
    "        correct += (predicted == batch_y).sum().item()\n",
    "\n",
    "test_acc = 100 * correct / len(test_dataset)\n",
    "print(f\"Test Accuracy: {test_acc:.2f}%\")"
   ]
  },
  {
   "cell_type": "code",
   "execution_count": null,
   "id": "7096f3d0-6069-4d44-b4d4-a902be0d942e",
   "metadata": {},
   "outputs": [],
   "source": []
  }
 ],
 "metadata": {
  "kernelspec": {
   "display_name": "Python 3 (ipykernel)",
   "language": "python",
   "name": "python3"
  },
  "language_info": {
   "codemirror_mode": {
    "name": "ipython",
    "version": 3
   },
   "file_extension": ".py",
   "mimetype": "text/x-python",
   "name": "python",
   "nbconvert_exporter": "python",
   "pygments_lexer": "ipython3",
   "version": "3.11.12"
  }
 },
 "nbformat": 4,
 "nbformat_minor": 5
}
