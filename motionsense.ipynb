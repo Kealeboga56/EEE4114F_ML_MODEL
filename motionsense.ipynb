{
 "cells": [
  {
   "cell_type": "markdown",
   "id": "6536a38c",
   "metadata": {},
   "source": [
    "# Human Activity Recognition\n",
    "This notebook provides some guidelines for building a classifier for the MotionSense dataset"
   ]
  },
  {
   "cell_type": "code",
   "execution_count": 1,
   "id": "05398592",
   "metadata": {},
   "outputs": [],
   "source": [
    "import numpy as np\n",
    "import pandas as pd\n",
    "import matplotlib.pyplot as plt\n",
    "from sklearn.model_selection import train_test_split, TimeSeriesSplit\n",
    "from sklearn.preprocessing import MinMaxScaler, StandardScaler\n",
    "from sklearn.preprocessing import LabelEncoder\n",
    "import torch\n",
    "import torch.nn as nn\n",
    "import torch.nn.functional as F\n",
    "import torch.optim as optim\n",
    "from torch.utils.data import Dataset, DataLoader\n",
    "from collections import Counter"
   ]
  },
  {
   "cell_type": "code",
   "execution_count": 2,
   "id": "79503b85-a942-4319-b459-1d2bc2abd0ec",
   "metadata": {},
   "outputs": [],
   "source": [
    "from sklearn.metrics import confusion_matrix\n",
    "import seaborn as sns\n",
    "import matplotlib.pyplot as plt\n",
    "\n",
    "def plot_confusion_matrix(y_true, y_pred, classes):\n",
    "    cm = confusion_matrix(y_true, y_pred)\n",
    "    plt.figure(figsize=(10, 8))\n",
    "    sns.heatmap(cm, annot=True, fmt='d', cmap='Blues', \n",
    "                xticklabels=classes, yticklabels=classes)\n",
    "    plt.xlabel('Predicted')\n",
    "    plt.ylabel('True')\n",
    "    plt.title('Confusion Matrix')\n",
    "    plt.show()"
   ]
  },
  {
   "cell_type": "markdown",
   "id": "49379c42",
   "metadata": {},
   "source": [
    "# Generate time-series data\n",
    "The original MotionSense dataset comes in a slightly cumbersome format, but the authors do provide a few functions to produce Pandas DataFrames with control over what is produced. For our purposes we are not concerned with all of the target data, as we only need to know the activity that was being recorded. "
   ]
  },
  {
   "cell_type": "code",
   "execution_count": 3,
   "id": "5f4fa97e",
   "metadata": {},
   "outputs": [],
   "source": [
    "def get_ds_infos():\n",
    "    \"\"\"\n",
    "    Read the file includes data subject information.\n",
    "\n",
    "    EEE4114: Technically we do not need these data, as we are not concerned about identifying the subjects. \n",
    "    \n",
    "    Data Columns:\n",
    "    0: code [1-24]\n",
    "    1: weight [kg]\n",
    "    2: height [cm]\n",
    "    3: age [years]\n",
    "    4: gender [0:Female, 1:Male]\n",
    "    \n",
    "    Returns:\n",
    "        A pandas DataFrame that contains information about data subjects' attributes \n",
    "    \"\"\" \n",
    "\n",
    "    dss = pd.read_csv(\"../data/data_subjects_info.csv\")\n",
    "    print(\"[INFO] -- Data subjects' information is imported.\")\n",
    "    \n",
    "    return dss\n",
    "\n",
    "def set_data_types(data_types=[\"userAcceleration\"]):\n",
    "    \"\"\"\n",
    "    Select the sensors and the mode to shape the final dataset. \n",
    "\n",
    "    EEE4114F: Choose sensors that you think are useful or would like to include in training. \n",
    "    You can choose all of them, or you could opt to try a limited set of input features\n",
    "    \n",
    "    Args:\n",
    "        data_types: A list of sensor data type from this list: [attitude, gravity, rotationRate, userAcceleration] \n",
    "\n",
    "    Returns:\n",
    "        It returns a list of columns to use for creating time-series from files.\n",
    "    \"\"\"\n",
    "    dt_list = []\n",
    "    for t in data_types:\n",
    "        if t != \"attitude\":\n",
    "            dt_list.append([t+\".x\",t+\".y\",t+\".z\"])\n",
    "        else:\n",
    "            dt_list.append([t+\".roll\", t+\".pitch\", t+\".yaw\"])\n",
    "\n",
    "    return dt_list\n",
    "\n",
    "\n",
    "def create_time_series(dt_list, act_labels, trial_codes, mode=\"mag\", labeled=True):\n",
    "    \"\"\"\n",
    "    EEE4114F: This defines what data you would like to include for a given set.  \n",
    "\n",
    "    Args:\n",
    "        dt_list: A list of columns that shows the type of data we want.\n",
    "        act_labels: list of activites\n",
    "        trial_codes: list of trials\n",
    "        mode: It can be \"raw\" which means you want raw data\n",
    "        for every dimension of each data type,\n",
    "        [attitude(roll, pitch, yaw); gravity(x, y, z); rotationRate(x, y, z); userAcceleration(x,y,z)].\n",
    "        or it can be \"mag\" which means you only want the magnitude for each data type: (x^2+y^2+z^2)^(1/2)\n",
    "        labeled: True, if we want a labeled dataset. False, if we only want sensor values.\n",
    "\n",
    "    Returns:\n",
    "        It returns a time-series of sensor data.\n",
    "    \n",
    "    \"\"\"\n",
    "    num_data_cols = len(dt_list) if mode == \"mag\" else len(dt_list*3)\n",
    "\n",
    "    if labeled:\n",
    "        dataset = np.zeros((0,num_data_cols+1)) # \"1\" --> [act] we do not need the other labels\n",
    "    else:\n",
    "        dataset = np.zeros((0,num_data_cols))\n",
    "        \n",
    "    ds_list = get_ds_infos()\n",
    "    \n",
    "    print(\"[INFO] -- Creating Time-Series\")\n",
    "    for sub_id in ds_list[\"code\"]:\n",
    "        for act_id, act in enumerate(act_labels):\n",
    "            for trial in trial_codes[act_id]:\n",
    "                fname = '../data/A_DeviceMotion_data/'+act+'_'+str(trial)+'/sub_'+str(int(sub_id))+'.csv'\n",
    "                raw_data = pd.read_csv(fname)\n",
    "                raw_data = raw_data.drop(['Unnamed: 0'], axis=1)\n",
    "                vals = np.zeros((len(raw_data), num_data_cols))\n",
    "                for x_id, axes in enumerate(dt_list):\n",
    "                    if mode == \"mag\":\n",
    "                        vals[:,x_id] = (raw_data[axes]**2).sum(axis=1)**0.5        \n",
    "                    else:\n",
    "                        vals[:,x_id*3:(x_id+1)*3] = raw_data[axes].values\n",
    "                    vals = vals[:,:num_data_cols]\n",
    "                if labeled:\n",
    "                    lbls = np.array([[act_id]]*len(raw_data))\n",
    "                    vals = np.concatenate((vals, lbls), axis=1)\n",
    "                dataset = np.append(dataset,vals, axis=0)\n",
    "    cols = []\n",
    "    for axes in dt_list:\n",
    "        if mode == \"raw\":\n",
    "            cols += axes\n",
    "        else:\n",
    "            cols += [str(axes[0][:-2])]\n",
    "            \n",
    "    if labeled:\n",
    "        cols += [\"act\"]\n",
    "    \n",
    "    dataset = pd.DataFrame(data=dataset, columns=cols)\n",
    "    return dataset"
   ]
  },
  {
   "cell_type": "markdown",
   "id": "5ffdb25b",
   "metadata": {},
   "source": [
    "You would need to decide what to include in your dataset, for example if you want to try a reduce dataset with only a few sensors then you can alter the `sdt` list. "
   ]
  },
  {
   "cell_type": "code",
   "execution_count": 4,
   "id": "ce4af905",
   "metadata": {},
   "outputs": [
    {
     "name": "stdout",
     "output_type": "stream",
     "text": [
      "[INFO] -- Selected sensor data types: ['attitude', 'userAcceleration']\n",
      "[INFO] -- Selected activites: ['dws', 'ups', 'wlk', 'jog', 'std', 'sit']\n",
      "[INFO] -- Data subjects' information is imported.\n",
      "[INFO] -- Creating Time-Series\n",
      "[INFO] -- Shape of time-Series dataset:(1412865, 7)\n"
     ]
    },
    {
     "data": {
      "text/html": [
       "<div>\n",
       "<style scoped>\n",
       "    .dataframe tbody tr th:only-of-type {\n",
       "        vertical-align: middle;\n",
       "    }\n",
       "\n",
       "    .dataframe tbody tr th {\n",
       "        vertical-align: top;\n",
       "    }\n",
       "\n",
       "    .dataframe thead th {\n",
       "        text-align: right;\n",
       "    }\n",
       "</style>\n",
       "<table border=\"1\" class=\"dataframe\">\n",
       "  <thead>\n",
       "    <tr style=\"text-align: right;\">\n",
       "      <th></th>\n",
       "      <th>attitude.roll</th>\n",
       "      <th>attitude.pitch</th>\n",
       "      <th>attitude.yaw</th>\n",
       "      <th>userAcceleration.x</th>\n",
       "      <th>userAcceleration.y</th>\n",
       "      <th>userAcceleration.z</th>\n",
       "      <th>act</th>\n",
       "    </tr>\n",
       "  </thead>\n",
       "  <tbody>\n",
       "    <tr>\n",
       "      <th>0</th>\n",
       "      <td>1.528132</td>\n",
       "      <td>-0.733896</td>\n",
       "      <td>0.696372</td>\n",
       "      <td>0.294894</td>\n",
       "      <td>-0.184493</td>\n",
       "      <td>0.377542</td>\n",
       "      <td>0.0</td>\n",
       "    </tr>\n",
       "    <tr>\n",
       "      <th>1</th>\n",
       "      <td>1.527992</td>\n",
       "      <td>-0.716987</td>\n",
       "      <td>0.677762</td>\n",
       "      <td>0.219405</td>\n",
       "      <td>0.035846</td>\n",
       "      <td>0.114866</td>\n",
       "      <td>0.0</td>\n",
       "    </tr>\n",
       "    <tr>\n",
       "      <th>2</th>\n",
       "      <td>1.527765</td>\n",
       "      <td>-0.706999</td>\n",
       "      <td>0.670951</td>\n",
       "      <td>0.010714</td>\n",
       "      <td>0.134701</td>\n",
       "      <td>-0.167808</td>\n",
       "      <td>0.0</td>\n",
       "    </tr>\n",
       "    <tr>\n",
       "      <th>3</th>\n",
       "      <td>1.516768</td>\n",
       "      <td>-0.704678</td>\n",
       "      <td>0.675735</td>\n",
       "      <td>-0.008389</td>\n",
       "      <td>0.136788</td>\n",
       "      <td>0.094958</td>\n",
       "      <td>0.0</td>\n",
       "    </tr>\n",
       "    <tr>\n",
       "      <th>4</th>\n",
       "      <td>1.493941</td>\n",
       "      <td>-0.703918</td>\n",
       "      <td>0.672994</td>\n",
       "      <td>0.199441</td>\n",
       "      <td>0.353996</td>\n",
       "      <td>-0.044299</td>\n",
       "      <td>0.0</td>\n",
       "    </tr>\n",
       "  </tbody>\n",
       "</table>\n",
       "</div>"
      ],
      "text/plain": [
       "   attitude.roll  attitude.pitch  attitude.yaw  userAcceleration.x  \\\n",
       "0       1.528132       -0.733896      0.696372            0.294894   \n",
       "1       1.527992       -0.716987      0.677762            0.219405   \n",
       "2       1.527765       -0.706999      0.670951            0.010714   \n",
       "3       1.516768       -0.704678      0.675735           -0.008389   \n",
       "4       1.493941       -0.703918      0.672994            0.199441   \n",
       "\n",
       "   userAcceleration.y  userAcceleration.z  act  \n",
       "0           -0.184493            0.377542  0.0  \n",
       "1            0.035846            0.114866  0.0  \n",
       "2            0.134701           -0.167808  0.0  \n",
       "3            0.136788            0.094958  0.0  \n",
       "4            0.353996           -0.044299  0.0  "
      ]
     },
     "execution_count": 4,
     "metadata": {},
     "output_type": "execute_result"
    }
   ],
   "source": [
    "ACT_LABELS = [\"dws\",\"ups\", \"wlk\", \"jog\", \"std\", \"sit\"]\n",
    "TRIAL_CODES = {\n",
    "    ACT_LABELS[0]:[1,2,11],\n",
    "    ACT_LABELS[1]:[3,4,12],\n",
    "    ACT_LABELS[2]:[7,8,15],\n",
    "    ACT_LABELS[3]:[9,16],\n",
    "    ACT_LABELS[4]:[6,14],\n",
    "    ACT_LABELS[5]:[5,13]\n",
    "}\n",
    "\n",
    "## Here we set parameter to build labeled time-series from dataset of \"(A)DeviceMotion_data\"\n",
    "## attitude(roll, pitch, yaw); gravity(x, y, z); rotationRate(x, y, z); userAcceleration(x,y,z)\n",
    "sdt = [\"attitude\", \"userAcceleration\"]\n",
    "print(\"[INFO] -- Selected sensor data types: \"+str(sdt))    \n",
    "act_labels = ACT_LABELS #[0:4]\n",
    "print(\"[INFO] -- Selected activites: \"+str(act_labels))    \n",
    "trial_codes = [TRIAL_CODES[act] for act in act_labels]\n",
    "dt_list = set_data_types(sdt)\n",
    "dataset = create_time_series(dt_list, act_labels, trial_codes, mode=\"raw\", labeled=True)\n",
    "print(\"[INFO] -- Shape of time-Series dataset:\"+str(dataset.shape))    \n",
    "dataset.head()"
   ]
  },
  {
   "cell_type": "code",
   "execution_count": 5,
   "id": "ff618aeb-62b2-4e8e-97eb-0f8e0640c737",
   "metadata": {},
   "outputs": [
    {
     "data": {
      "text/html": [
       "<div>\n",
       "<style scoped>\n",
       "    .dataframe tbody tr th:only-of-type {\n",
       "        vertical-align: middle;\n",
       "    }\n",
       "\n",
       "    .dataframe tbody tr th {\n",
       "        vertical-align: top;\n",
       "    }\n",
       "\n",
       "    .dataframe thead th {\n",
       "        text-align: right;\n",
       "    }\n",
       "</style>\n",
       "<table border=\"1\" class=\"dataframe\">\n",
       "  <thead>\n",
       "    <tr style=\"text-align: right;\">\n",
       "      <th></th>\n",
       "      <th>attitude.roll</th>\n",
       "      <th>attitude.pitch</th>\n",
       "      <th>attitude.yaw</th>\n",
       "      <th>userAcceleration.x</th>\n",
       "      <th>userAcceleration.y</th>\n",
       "      <th>userAcceleration.z</th>\n",
       "      <th>act</th>\n",
       "    </tr>\n",
       "  </thead>\n",
       "  <tbody>\n",
       "    <tr>\n",
       "      <th>0</th>\n",
       "      <td>1.528132</td>\n",
       "      <td>-0.733896</td>\n",
       "      <td>0.696372</td>\n",
       "      <td>0.294894</td>\n",
       "      <td>-0.184493</td>\n",
       "      <td>0.377542</td>\n",
       "      <td>0.0</td>\n",
       "    </tr>\n",
       "    <tr>\n",
       "      <th>1</th>\n",
       "      <td>1.527992</td>\n",
       "      <td>-0.716987</td>\n",
       "      <td>0.677762</td>\n",
       "      <td>0.219405</td>\n",
       "      <td>0.035846</td>\n",
       "      <td>0.114866</td>\n",
       "      <td>0.0</td>\n",
       "    </tr>\n",
       "    <tr>\n",
       "      <th>2</th>\n",
       "      <td>1.527765</td>\n",
       "      <td>-0.706999</td>\n",
       "      <td>0.670951</td>\n",
       "      <td>0.010714</td>\n",
       "      <td>0.134701</td>\n",
       "      <td>-0.167808</td>\n",
       "      <td>0.0</td>\n",
       "    </tr>\n",
       "    <tr>\n",
       "      <th>3</th>\n",
       "      <td>1.516768</td>\n",
       "      <td>-0.704678</td>\n",
       "      <td>0.675735</td>\n",
       "      <td>-0.008389</td>\n",
       "      <td>0.136788</td>\n",
       "      <td>0.094958</td>\n",
       "      <td>0.0</td>\n",
       "    </tr>\n",
       "    <tr>\n",
       "      <th>4</th>\n",
       "      <td>1.493941</td>\n",
       "      <td>-0.703918</td>\n",
       "      <td>0.672994</td>\n",
       "      <td>0.199441</td>\n",
       "      <td>0.353996</td>\n",
       "      <td>-0.044299</td>\n",
       "      <td>0.0</td>\n",
       "    </tr>\n",
       "    <tr>\n",
       "      <th>...</th>\n",
       "      <td>...</td>\n",
       "      <td>...</td>\n",
       "      <td>...</td>\n",
       "      <td>...</td>\n",
       "      <td>...</td>\n",
       "      <td>...</td>\n",
       "      <td>...</td>\n",
       "    </tr>\n",
       "    <tr>\n",
       "      <th>1412860</th>\n",
       "      <td>-2.368280</td>\n",
       "      <td>-0.381075</td>\n",
       "      <td>-0.089417</td>\n",
       "      <td>0.000789</td>\n",
       "      <td>-0.005937</td>\n",
       "      <td>-0.004355</td>\n",
       "      <td>5.0</td>\n",
       "    </tr>\n",
       "    <tr>\n",
       "      <th>1412861</th>\n",
       "      <td>-2.368752</td>\n",
       "      <td>-0.381071</td>\n",
       "      <td>-0.089478</td>\n",
       "      <td>-0.000409</td>\n",
       "      <td>-0.000608</td>\n",
       "      <td>0.000098</td>\n",
       "      <td>5.0</td>\n",
       "    </tr>\n",
       "    <tr>\n",
       "      <th>1412862</th>\n",
       "      <td>-2.369130</td>\n",
       "      <td>-0.381163</td>\n",
       "      <td>-0.089465</td>\n",
       "      <td>-0.000486</td>\n",
       "      <td>0.000711</td>\n",
       "      <td>0.002045</td>\n",
       "      <td>5.0</td>\n",
       "    </tr>\n",
       "    <tr>\n",
       "      <th>1412863</th>\n",
       "      <td>-2.369372</td>\n",
       "      <td>-0.381295</td>\n",
       "      <td>-0.089468</td>\n",
       "      <td>0.000311</td>\n",
       "      <td>-0.003395</td>\n",
       "      <td>0.004746</td>\n",
       "      <td>5.0</td>\n",
       "    </tr>\n",
       "    <tr>\n",
       "      <th>1412864</th>\n",
       "      <td>-2.369404</td>\n",
       "      <td>-0.381297</td>\n",
       "      <td>-0.089545</td>\n",
       "      <td>0.001357</td>\n",
       "      <td>-0.004510</td>\n",
       "      <td>0.004161</td>\n",
       "      <td>5.0</td>\n",
       "    </tr>\n",
       "  </tbody>\n",
       "</table>\n",
       "<p>1412865 rows × 7 columns</p>\n",
       "</div>"
      ],
      "text/plain": [
       "         attitude.roll  attitude.pitch  attitude.yaw  userAcceleration.x  \\\n",
       "0             1.528132       -0.733896      0.696372            0.294894   \n",
       "1             1.527992       -0.716987      0.677762            0.219405   \n",
       "2             1.527765       -0.706999      0.670951            0.010714   \n",
       "3             1.516768       -0.704678      0.675735           -0.008389   \n",
       "4             1.493941       -0.703918      0.672994            0.199441   \n",
       "...                ...             ...           ...                 ...   \n",
       "1412860      -2.368280       -0.381075     -0.089417            0.000789   \n",
       "1412861      -2.368752       -0.381071     -0.089478           -0.000409   \n",
       "1412862      -2.369130       -0.381163     -0.089465           -0.000486   \n",
       "1412863      -2.369372       -0.381295     -0.089468            0.000311   \n",
       "1412864      -2.369404       -0.381297     -0.089545            0.001357   \n",
       "\n",
       "         userAcceleration.y  userAcceleration.z  act  \n",
       "0                 -0.184493            0.377542  0.0  \n",
       "1                  0.035846            0.114866  0.0  \n",
       "2                  0.134701           -0.167808  0.0  \n",
       "3                  0.136788            0.094958  0.0  \n",
       "4                  0.353996           -0.044299  0.0  \n",
       "...                     ...                 ...  ...  \n",
       "1412860           -0.005937           -0.004355  5.0  \n",
       "1412861           -0.000608            0.000098  5.0  \n",
       "1412862            0.000711            0.002045  5.0  \n",
       "1412863           -0.003395            0.004746  5.0  \n",
       "1412864           -0.004510            0.004161  5.0  \n",
       "\n",
       "[1412865 rows x 7 columns]"
      ]
     },
     "execution_count": 5,
     "metadata": {},
     "output_type": "execute_result"
    }
   ],
   "source": [
    "dataset"
   ]
  },
  {
   "cell_type": "markdown",
   "id": "4b0a9c25",
   "metadata": {},
   "source": [
    "# Data Pre-processing\n",
    "There are numerous approaches to solving this task and your choice of algorithm will determine what form your input data should take. For example, a feed-forward neural network could be used, but what type of representation would make sense? Without being able to account for the temporal structure of the data, feed-forward networks might fail. One way around this is to potentially use summarized statistics about the data to simplify the features in a way that is not reliant on temporal information. E.g. instead of the raw signal for the acceleration, what if you worked with the mean? This might not be the best approach, compared to other algorithms, but it could be useful for a feed-forward network.\n",
    "\n",
    "what about convolutional neural networks? Well, you could use 1D convolutions directly on time-series data which would then result in fewer model parameters compared to a fully-connected network, with the added benefit of retaining temporal information. Alternatively you could look to transform the time-series data into 2D data using something such as an FFT to produce a spectogram. Or for something simpler you can create fixed windows to divide your dataset into chunks of 2D data e.g. for 6 sensors and a window of 400 samples you would generate a 6 x 400 input. "
   ]
  },
  {
   "cell_type": "code",
   "execution_count": 6,
   "id": "51fcfc85",
   "metadata": {},
   "outputs": [],
   "source": [
    "def windows(dataset, window_size=400, stride=200):\n",
    "    \"\"\"\n",
    "    Create fixed-length windows of the input data. \n",
    "\n",
    "    Args:\n",
    "        dataset: DataFrame of the time-series data\n",
    "        size: (int) the size of the windows in number of samples.\n",
    "        stride: (int) the stride length of the windows. \n",
    "\n",
    "    Returns:\n",
    "        windows_df: DataFrame of the windowed time-series data. Each window should have the shape (n_sensors, window_size). \n",
    "            The number of examples will change depending on the stride.    \n",
    "\n",
    "    \"\"\"\n",
    "\n",
    "    features = dataset.iloc[:, :-1].values  # Shape: (N, 6)\n",
    "    labels = dataset.iloc[:, -1].values     # Shape: (N,)\n",
    "    \n",
    "    windows_list = []\n",
    "    \n",
    "    for start in range(0, len(dataset) - window_size + 1, stride):\n",
    "        end = start + window_size\n",
    "        window = features[start:end].T  # Transpose to shape (6, window_size)\n",
    "        window_labels = labels[start:end]\n",
    "        label = Counter(window_labels).most_common(1)[0][0]  # Mode label\n",
    "        windows_list.append((window, label))\n",
    "\n",
    "    return windows_list"
   ]
  },
  {
   "cell_type": "code",
   "execution_count": 7,
   "id": "37a1abe0-6976-46ec-8d2d-95aa0610415b",
   "metadata": {},
   "outputs": [],
   "source": [
    "def windows_no_event_overlap(dataset, window_size=400, stride=200):\n",
    "    features = dataset.iloc[:, :-1].values  # All sensor columns (shape: N x 6)\n",
    "    labels = dataset.iloc[:, -1].values     # Activity labels (shape: N,)\n",
    "\n",
    "    windows_list = []\n",
    "    start = 0\n",
    "    N = len(dataset)\n",
    "\n",
    "    while start + window_size <= N:\n",
    "        end = start + window_size\n",
    "        current_labels = labels[start:end]\n",
    "\n",
    "        # If all labels in the window are the same, accept the window\n",
    "        if np.all(current_labels == current_labels[0]):\n",
    "            window = features[start:end].T  # Shape: (6, window_size)\n",
    "            label = current_labels[0]       # Label is just that class\n",
    "            windows_list.append((window, label))\n",
    "            start += stride\n",
    "        else:\n",
    "            # Skip ahead until we find a new contiguous segment of the same activity\n",
    "            next_change = np.where(labels[start:] != labels[start])[0]\n",
    "            if len(next_change) == 0:\n",
    "                break  # No more activity changes\n",
    "            start += next_change[0]  # Move to the start of the next activity block\n",
    "\n",
    "    return windows_list"
   ]
  },
  {
   "cell_type": "code",
   "execution_count": 8,
   "id": "34a6f1a4-3def-4d04-babc-71fb6fa58b82",
   "metadata": {},
   "outputs": [
    {
     "name": "stdout",
     "output_type": "stream",
     "text": [
      "7063\n"
     ]
    },
    {
     "data": {
      "text/plain": [
       "(6, 400)"
      ]
     },
     "execution_count": 8,
     "metadata": {},
     "output_type": "execute_result"
    }
   ],
   "source": [
    "blah = windows(dataset)\n",
    "print(len(blah))\n",
    "np.shape(blah[7062][0])"
   ]
  },
  {
   "cell_type": "code",
   "execution_count": 9,
   "id": "0922834b-6894-4d28-a792-b20b29f4d69f",
   "metadata": {},
   "outputs": [
    {
     "data": {
      "text/plain": [
       "(7063, 6, 400)"
      ]
     },
     "execution_count": 9,
     "metadata": {},
     "output_type": "execute_result"
    }
   ],
   "source": [
    "x = [x[0] for x in blah]\n",
    "y = [x[1] for x in blah]\n",
    "\n",
    "np.shape(x)"
   ]
  },
  {
   "cell_type": "markdown",
   "id": "85c80505",
   "metadata": {},
   "source": [
    "# Pytorch Dataset\n",
    "If using Pytorch it is useful to create datasets using their dataset structures. This may require modification if using additional transformations, or formats"
   ]
  },
  {
   "cell_type": "code",
   "execution_count": 10,
   "id": "80b0ca36",
   "metadata": {},
   "outputs": [],
   "source": [
    "class MotionSense(Dataset):\n",
    "    def __init__(self, X, Y, transform=None):\n",
    "        self.X = torch.tensor(X.values)\n",
    "        self.Y = torch.tensor(Y.values)\n",
    "        self.transform = transform\n",
    "\n",
    "    def __getitem__(self, index):\n",
    "        if torch.is_tensor(index):\n",
    "            index = int(index.item())\n",
    "\n",
    "        x = self.X[index]\n",
    "        y = self.Y[index]\n",
    "\n",
    "        return x, y\n",
    "\n",
    "    def __len__(self):\n",
    "        return len(self.X)"
   ]
  },
  {
   "cell_type": "code",
   "execution_count": 11,
   "id": "1e699a2c-ae52-4682-a5d9-bb89de15b016",
   "metadata": {},
   "outputs": [],
   "source": [
    "class MotionSense2(Dataset):\n",
    "    def __init__(self, X, Y, transform=None):\n",
    "        self.X = torch.tensor(X)\n",
    "        self.Y = torch.tensor(Y)\n",
    "        self.transform = transform\n",
    "\n",
    "    def __getitem__(self, index):\n",
    "        if torch.is_tensor(index):\n",
    "            index = int(index.item())\n",
    "\n",
    "        x = self.X[index]\n",
    "        y = self.Y[index]\n",
    "\n",
    "        return x, y\n",
    "\n",
    "    def __len__(self):\n",
    "        return len(self.X)"
   ]
  },
  {
   "cell_type": "markdown",
   "id": "c7c9503b",
   "metadata": {},
   "source": [
    "# Resampling\n",
    "You can split the dataset using sklearn, but you need to take care with your specific data. For example, randomly splitting raw sensor data will result in jumbled time-series signals. "
   ]
  },
  {
   "cell_type": "code",
   "execution_count": 12,
   "id": "0e102709",
   "metadata": {},
   "outputs": [],
   "source": [
    "X = dataset[dt_list[0]+dt_list[1]] # You could collect the input and target data as separate dataframes\n",
    "Y = dataset.act"
   ]
  },
  {
   "cell_type": "code",
   "execution_count": 13,
   "id": "63575a79",
   "metadata": {},
   "outputs": [],
   "source": [
    "# You may be tempted to use train_test_split directly. But if using raw sensor data this would randomize the signals and not retain the order. \n",
    "X_train, X_test, Y_train, Y_test = train_test_split(X, Y, test_size=0.1, shuffle=False) "
   ]
  },
  {
   "cell_type": "code",
   "execution_count": 14,
   "id": "026c2586",
   "metadata": {},
   "outputs": [
    {
     "data": {
      "text/html": [
       "<div>\n",
       "<style scoped>\n",
       "    .dataframe tbody tr th:only-of-type {\n",
       "        vertical-align: middle;\n",
       "    }\n",
       "\n",
       "    .dataframe tbody tr th {\n",
       "        vertical-align: top;\n",
       "    }\n",
       "\n",
       "    .dataframe thead th {\n",
       "        text-align: right;\n",
       "    }\n",
       "</style>\n",
       "<table border=\"1\" class=\"dataframe\">\n",
       "  <thead>\n",
       "    <tr style=\"text-align: right;\">\n",
       "      <th></th>\n",
       "      <th>attitude.roll</th>\n",
       "      <th>attitude.pitch</th>\n",
       "      <th>attitude.yaw</th>\n",
       "      <th>userAcceleration.x</th>\n",
       "      <th>userAcceleration.y</th>\n",
       "      <th>userAcceleration.z</th>\n",
       "    </tr>\n",
       "  </thead>\n",
       "  <tbody>\n",
       "    <tr>\n",
       "      <th>0</th>\n",
       "      <td>1.528132</td>\n",
       "      <td>-0.733896</td>\n",
       "      <td>0.696372</td>\n",
       "      <td>0.294894</td>\n",
       "      <td>-0.184493</td>\n",
       "      <td>0.377542</td>\n",
       "    </tr>\n",
       "    <tr>\n",
       "      <th>1</th>\n",
       "      <td>1.527992</td>\n",
       "      <td>-0.716987</td>\n",
       "      <td>0.677762</td>\n",
       "      <td>0.219405</td>\n",
       "      <td>0.035846</td>\n",
       "      <td>0.114866</td>\n",
       "    </tr>\n",
       "    <tr>\n",
       "      <th>2</th>\n",
       "      <td>1.527765</td>\n",
       "      <td>-0.706999</td>\n",
       "      <td>0.670951</td>\n",
       "      <td>0.010714</td>\n",
       "      <td>0.134701</td>\n",
       "      <td>-0.167808</td>\n",
       "    </tr>\n",
       "    <tr>\n",
       "      <th>3</th>\n",
       "      <td>1.516768</td>\n",
       "      <td>-0.704678</td>\n",
       "      <td>0.675735</td>\n",
       "      <td>-0.008389</td>\n",
       "      <td>0.136788</td>\n",
       "      <td>0.094958</td>\n",
       "    </tr>\n",
       "    <tr>\n",
       "      <th>4</th>\n",
       "      <td>1.493941</td>\n",
       "      <td>-0.703918</td>\n",
       "      <td>0.672994</td>\n",
       "      <td>0.199441</td>\n",
       "      <td>0.353996</td>\n",
       "      <td>-0.044299</td>\n",
       "    </tr>\n",
       "  </tbody>\n",
       "</table>\n",
       "</div>"
      ],
      "text/plain": [
       "   attitude.roll  attitude.pitch  attitude.yaw  userAcceleration.x  \\\n",
       "0       1.528132       -0.733896      0.696372            0.294894   \n",
       "1       1.527992       -0.716987      0.677762            0.219405   \n",
       "2       1.527765       -0.706999      0.670951            0.010714   \n",
       "3       1.516768       -0.704678      0.675735           -0.008389   \n",
       "4       1.493941       -0.703918      0.672994            0.199441   \n",
       "\n",
       "   userAcceleration.y  userAcceleration.z  \n",
       "0           -0.184493            0.377542  \n",
       "1            0.035846            0.114866  \n",
       "2            0.134701           -0.167808  \n",
       "3            0.136788            0.094958  \n",
       "4            0.353996           -0.044299  "
      ]
     },
     "execution_count": 14,
     "metadata": {},
     "output_type": "execute_result"
    }
   ],
   "source": [
    "X_train.head() "
   ]
  },
  {
   "cell_type": "code",
   "execution_count": 15,
   "id": "2f942e77-7d57-43e9-bda4-a0adc457ca59",
   "metadata": {},
   "outputs": [],
   "source": [
    "# Split the data - Holdout\n",
    "\n",
    "train_set, test_set = train_test_split(blah, test_size=0.2, shuffle=False)"
   ]
  },
  {
   "cell_type": "code",
   "execution_count": 16,
   "id": "fc19b858-fa52-49b1-b88a-aee69bc1f6cc",
   "metadata": {},
   "outputs": [],
   "source": [
    "x_train = [x[0] for x in train_set]\n",
    "y_train = [x[1] for x in train_set]\n",
    "\n",
    "x_test = [x[0] for x in test_set]\n",
    "y_test = [x[1] for x in test_set]"
   ]
  },
  {
   "cell_type": "markdown",
   "id": "e4421d5c",
   "metadata": {},
   "source": [
    "Notice the indeces are all jumbled? If using windowed data the usual splitting methods work, as each window retains the order of sensor values, as long as you split the data along the correct axis. \n",
    "\n",
    "If using summarized data e.g. taking the mean, max, min etc. as input features rather than the raw data then you should be fine using train_test_split.\n",
    "\n",
    "If working with raw sensor data there is an sklearn fuction for splitting time series data to make splitting raw signals easier if you want to work with that instead."
   ]
  },
  {
   "cell_type": "code",
   "execution_count": 17,
   "id": "d51bd192",
   "metadata": {},
   "outputs": [],
   "source": [
    "# Here is an example of the TimeSeriesSplit. It does create cross-validation data by default. \n",
    "ts_cv = TimeSeriesSplit(\n",
    "    n_splits=5,\n",
    "    gap=20,\n",
    "    max_train_size=10000,\n",
    "    test_size=1000\n",
    ")\n",
    "\n",
    "all_splits = list(ts_cv.split(X ,Y)) # These are indices, not the data itself."
   ]
  },
  {
   "cell_type": "code",
   "execution_count": 18,
   "id": "71593da5-b1a1-472d-8a3d-cbeb9c81b989",
   "metadata": {},
   "outputs": [
    {
     "data": {
      "text/plain": [
       "5"
      ]
     },
     "execution_count": 18,
     "metadata": {},
     "output_type": "execute_result"
    }
   ],
   "source": [
    "len(all_splits)"
   ]
  },
  {
   "cell_type": "markdown",
   "id": "ce931631",
   "metadata": {},
   "source": [
    "Once you have the indices you can sample the data"
   ]
  },
  {
   "cell_type": "code",
   "execution_count": 19,
   "id": "5bd05035",
   "metadata": {},
   "outputs": [
    {
     "data": {
      "text/html": [
       "<div>\n",
       "<style scoped>\n",
       "    .dataframe tbody tr th:only-of-type {\n",
       "        vertical-align: middle;\n",
       "    }\n",
       "\n",
       "    .dataframe tbody tr th {\n",
       "        vertical-align: top;\n",
       "    }\n",
       "\n",
       "    .dataframe thead th {\n",
       "        text-align: right;\n",
       "    }\n",
       "</style>\n",
       "<table border=\"1\" class=\"dataframe\">\n",
       "  <thead>\n",
       "    <tr style=\"text-align: right;\">\n",
       "      <th></th>\n",
       "      <th>attitude.roll</th>\n",
       "      <th>attitude.pitch</th>\n",
       "      <th>attitude.yaw</th>\n",
       "      <th>userAcceleration.x</th>\n",
       "      <th>userAcceleration.y</th>\n",
       "      <th>userAcceleration.z</th>\n",
       "    </tr>\n",
       "  </thead>\n",
       "  <tbody>\n",
       "    <tr>\n",
       "      <th>1397845</th>\n",
       "      <td>-0.958415</td>\n",
       "      <td>-1.273400</td>\n",
       "      <td>2.505994</td>\n",
       "      <td>0.000617</td>\n",
       "      <td>0.003797</td>\n",
       "      <td>-0.008409</td>\n",
       "    </tr>\n",
       "    <tr>\n",
       "      <th>1397846</th>\n",
       "      <td>-0.960113</td>\n",
       "      <td>-1.272760</td>\n",
       "      <td>2.506021</td>\n",
       "      <td>0.002792</td>\n",
       "      <td>0.017977</td>\n",
       "      <td>-0.011121</td>\n",
       "    </tr>\n",
       "    <tr>\n",
       "      <th>1397847</th>\n",
       "      <td>-0.961836</td>\n",
       "      <td>-1.272516</td>\n",
       "      <td>2.506426</td>\n",
       "      <td>0.008888</td>\n",
       "      <td>-0.009524</td>\n",
       "      <td>-0.004444</td>\n",
       "    </tr>\n",
       "    <tr>\n",
       "      <th>1397848</th>\n",
       "      <td>-0.961993</td>\n",
       "      <td>-1.272238</td>\n",
       "      <td>2.508011</td>\n",
       "      <td>0.013588</td>\n",
       "      <td>-0.003491</td>\n",
       "      <td>-0.006772</td>\n",
       "    </tr>\n",
       "    <tr>\n",
       "      <th>1397849</th>\n",
       "      <td>-0.959931</td>\n",
       "      <td>-1.272258</td>\n",
       "      <td>2.511630</td>\n",
       "      <td>0.022700</td>\n",
       "      <td>0.004926</td>\n",
       "      <td>-0.013137</td>\n",
       "    </tr>\n",
       "  </tbody>\n",
       "</table>\n",
       "</div>"
      ],
      "text/plain": [
       "         attitude.roll  attitude.pitch  attitude.yaw  userAcceleration.x  \\\n",
       "1397845      -0.958415       -1.273400      2.505994            0.000617   \n",
       "1397846      -0.960113       -1.272760      2.506021            0.002792   \n",
       "1397847      -0.961836       -1.272516      2.506426            0.008888   \n",
       "1397848      -0.961993       -1.272238      2.508011            0.013588   \n",
       "1397849      -0.959931       -1.272258      2.511630            0.022700   \n",
       "\n",
       "         userAcceleration.y  userAcceleration.z  \n",
       "1397845            0.003797           -0.008409  \n",
       "1397846            0.017977           -0.011121  \n",
       "1397847           -0.009524           -0.004444  \n",
       "1397848           -0.003491           -0.006772  \n",
       "1397849            0.004926           -0.013137  "
      ]
     },
     "execution_count": 19,
     "metadata": {},
     "output_type": "execute_result"
    }
   ],
   "source": [
    "X.iloc[all_splits[0][0]].head() # This is the training input data from the first split\n",
    "#print(all_splits)"
   ]
  },
  {
   "cell_type": "code",
   "execution_count": 20,
   "id": "f8eff6db",
   "metadata": {},
   "outputs": [
    {
     "data": {
      "text/plain": [
       "1397845    4.0\n",
       "1397846    4.0\n",
       "1397847    4.0\n",
       "1397848    4.0\n",
       "1397849    4.0\n",
       "Name: act, dtype: float64"
      ]
     },
     "execution_count": 20,
     "metadata": {},
     "output_type": "execute_result"
    }
   ],
   "source": [
    "Y.iloc[all_splits[0][0]].head() # This is the training target data from the first split. You can see the indices still match, and arre ordered correctly."
   ]
  },
  {
   "cell_type": "code",
   "execution_count": 21,
   "id": "48749e79-bda2-4a02-b198-af6425e5980b",
   "metadata": {},
   "outputs": [
    {
     "data": {
      "text/html": [
       "<div>\n",
       "<style scoped>\n",
       "    .dataframe tbody tr th:only-of-type {\n",
       "        vertical-align: middle;\n",
       "    }\n",
       "\n",
       "    .dataframe tbody tr th {\n",
       "        vertical-align: top;\n",
       "    }\n",
       "\n",
       "    .dataframe thead th {\n",
       "        text-align: right;\n",
       "    }\n",
       "</style>\n",
       "<table border=\"1\" class=\"dataframe\">\n",
       "  <thead>\n",
       "    <tr style=\"text-align: right;\">\n",
       "      <th></th>\n",
       "      <th>attitude.roll</th>\n",
       "      <th>attitude.pitch</th>\n",
       "      <th>attitude.yaw</th>\n",
       "      <th>userAcceleration.x</th>\n",
       "      <th>userAcceleration.y</th>\n",
       "      <th>userAcceleration.z</th>\n",
       "      <th>act</th>\n",
       "    </tr>\n",
       "  </thead>\n",
       "  <tbody>\n",
       "    <tr>\n",
       "      <th>1397845</th>\n",
       "      <td>-0.958415</td>\n",
       "      <td>-1.273400</td>\n",
       "      <td>2.505994</td>\n",
       "      <td>0.000617</td>\n",
       "      <td>0.003797</td>\n",
       "      <td>-0.008409</td>\n",
       "      <td>4.0</td>\n",
       "    </tr>\n",
       "    <tr>\n",
       "      <th>1397846</th>\n",
       "      <td>-0.960113</td>\n",
       "      <td>-1.272760</td>\n",
       "      <td>2.506021</td>\n",
       "      <td>0.002792</td>\n",
       "      <td>0.017977</td>\n",
       "      <td>-0.011121</td>\n",
       "      <td>4.0</td>\n",
       "    </tr>\n",
       "    <tr>\n",
       "      <th>1397847</th>\n",
       "      <td>-0.961836</td>\n",
       "      <td>-1.272516</td>\n",
       "      <td>2.506426</td>\n",
       "      <td>0.008888</td>\n",
       "      <td>-0.009524</td>\n",
       "      <td>-0.004444</td>\n",
       "      <td>4.0</td>\n",
       "    </tr>\n",
       "    <tr>\n",
       "      <th>1397848</th>\n",
       "      <td>-0.961993</td>\n",
       "      <td>-1.272238</td>\n",
       "      <td>2.508011</td>\n",
       "      <td>0.013588</td>\n",
       "      <td>-0.003491</td>\n",
       "      <td>-0.006772</td>\n",
       "      <td>4.0</td>\n",
       "    </tr>\n",
       "    <tr>\n",
       "      <th>1397849</th>\n",
       "      <td>-0.959931</td>\n",
       "      <td>-1.272258</td>\n",
       "      <td>2.511630</td>\n",
       "      <td>0.022700</td>\n",
       "      <td>0.004926</td>\n",
       "      <td>-0.013137</td>\n",
       "      <td>4.0</td>\n",
       "    </tr>\n",
       "    <tr>\n",
       "      <th>...</th>\n",
       "      <td>...</td>\n",
       "      <td>...</td>\n",
       "      <td>...</td>\n",
       "      <td>...</td>\n",
       "      <td>...</td>\n",
       "      <td>...</td>\n",
       "      <td>...</td>\n",
       "    </tr>\n",
       "    <tr>\n",
       "      <th>1407840</th>\n",
       "      <td>-2.668217</td>\n",
       "      <td>-0.082074</td>\n",
       "      <td>-0.419199</td>\n",
       "      <td>0.000806</td>\n",
       "      <td>-0.004513</td>\n",
       "      <td>-0.008178</td>\n",
       "      <td>5.0</td>\n",
       "    </tr>\n",
       "    <tr>\n",
       "      <th>1407841</th>\n",
       "      <td>-2.667989</td>\n",
       "      <td>-0.081651</td>\n",
       "      <td>-0.419106</td>\n",
       "      <td>-0.003584</td>\n",
       "      <td>-0.007875</td>\n",
       "      <td>-0.006763</td>\n",
       "      <td>5.0</td>\n",
       "    </tr>\n",
       "    <tr>\n",
       "      <th>1407842</th>\n",
       "      <td>-2.667739</td>\n",
       "      <td>-0.081444</td>\n",
       "      <td>-0.419184</td>\n",
       "      <td>0.001421</td>\n",
       "      <td>-0.003138</td>\n",
       "      <td>-0.004528</td>\n",
       "      <td>5.0</td>\n",
       "    </tr>\n",
       "    <tr>\n",
       "      <th>1407843</th>\n",
       "      <td>-2.667436</td>\n",
       "      <td>-0.081439</td>\n",
       "      <td>-0.419363</td>\n",
       "      <td>0.005139</td>\n",
       "      <td>-0.001729</td>\n",
       "      <td>0.001607</td>\n",
       "      <td>5.0</td>\n",
       "    </tr>\n",
       "    <tr>\n",
       "      <th>1407844</th>\n",
       "      <td>-2.667070</td>\n",
       "      <td>-0.081706</td>\n",
       "      <td>-0.419527</td>\n",
       "      <td>0.014243</td>\n",
       "      <td>0.004811</td>\n",
       "      <td>-0.001656</td>\n",
       "      <td>5.0</td>\n",
       "    </tr>\n",
       "  </tbody>\n",
       "</table>\n",
       "<p>10000 rows × 7 columns</p>\n",
       "</div>"
      ],
      "text/plain": [
       "         attitude.roll  attitude.pitch  attitude.yaw  userAcceleration.x  \\\n",
       "1397845      -0.958415       -1.273400      2.505994            0.000617   \n",
       "1397846      -0.960113       -1.272760      2.506021            0.002792   \n",
       "1397847      -0.961836       -1.272516      2.506426            0.008888   \n",
       "1397848      -0.961993       -1.272238      2.508011            0.013588   \n",
       "1397849      -0.959931       -1.272258      2.511630            0.022700   \n",
       "...                ...             ...           ...                 ...   \n",
       "1407840      -2.668217       -0.082074     -0.419199            0.000806   \n",
       "1407841      -2.667989       -0.081651     -0.419106           -0.003584   \n",
       "1407842      -2.667739       -0.081444     -0.419184            0.001421   \n",
       "1407843      -2.667436       -0.081439     -0.419363            0.005139   \n",
       "1407844      -2.667070       -0.081706     -0.419527            0.014243   \n",
       "\n",
       "         userAcceleration.y  userAcceleration.z  act  \n",
       "1397845            0.003797           -0.008409  4.0  \n",
       "1397846            0.017977           -0.011121  4.0  \n",
       "1397847           -0.009524           -0.004444  4.0  \n",
       "1397848           -0.003491           -0.006772  4.0  \n",
       "1397849            0.004926           -0.013137  4.0  \n",
       "...                     ...                 ...  ...  \n",
       "1407840           -0.004513           -0.008178  5.0  \n",
       "1407841           -0.007875           -0.006763  5.0  \n",
       "1407842           -0.003138           -0.004528  5.0  \n",
       "1407843           -0.001729            0.001607  5.0  \n",
       "1407844            0.004811           -0.001656  5.0  \n",
       "\n",
       "[10000 rows x 7 columns]"
      ]
     },
     "execution_count": 21,
     "metadata": {},
     "output_type": "execute_result"
    }
   ],
   "source": [
    "dataset.iloc[all_splits[0][0]]"
   ]
  },
  {
   "cell_type": "markdown",
   "id": "d68be307",
   "metadata": {},
   "source": [
    "Once you have your splits, you can convert them to Pytorch datasets for easier loading. Technically you could offload the sampling methods to Pytorch samplers, but this can be trickier to implement."
   ]
  },
  {
   "cell_type": "code",
   "execution_count": 22,
   "id": "3440c2e9",
   "metadata": {},
   "outputs": [],
   "source": [
    "train_1 = MotionSense(X.iloc[all_splits[0][0]].reset_index(drop=True), \n",
    "                      Y.iloc[all_splits[0][0]].reset_index(drop=True)) # reset_index is to make sure each new set is indexed from 0\n",
    "train_1_loader = DataLoader(train_1, batch_size=5)  # Will load data in batches. Batching raw signals can be problematic if it cuts-off a given signal, or stitches it together with other signals etc."
   ]
  },
  {
   "cell_type": "code",
   "execution_count": 23,
   "id": "c42094ae-e8fd-41de-aee5-3e7d7d1d3bfb",
   "metadata": {},
   "outputs": [
    {
     "name": "stderr",
     "output_type": "stream",
     "text": [
      "/tmp/ipykernel_277167/3222263456.py:3: UserWarning: Creating a tensor from a list of numpy.ndarrays is extremely slow. Please consider converting the list to a single numpy.ndarray with numpy.array() before converting to a tensor. (Triggered internally at /pytorch/torch/csrc/utils/tensor_new.cpp:254.)\n",
      "  self.X = torch.tensor(X)\n"
     ]
    }
   ],
   "source": [
    "train_1 = MotionSense2(x_train, \n",
    "                      y_train) # reset_index is to make sure each new set is indexed from 0\n",
    "train_1_loader = DataLoader(train_1, batch_size=5)  # Will load data in batches. Batching raw signals can be problematic if it cuts-off a given signal, or stitches it together with other signals etc."
   ]
  },
  {
   "cell_type": "code",
   "execution_count": 24,
   "id": "a76645c8-6457-4525-995a-b41604e280ff",
   "metadata": {},
   "outputs": [
    {
     "data": {
      "text/plain": [
       "<torch.utils.data.dataloader.DataLoader at 0x7fc9df0a3c10>"
      ]
     },
     "execution_count": 24,
     "metadata": {},
     "output_type": "execute_result"
    }
   ],
   "source": [
    "train_1_loader"
   ]
  },
  {
   "cell_type": "code",
   "execution_count": 25,
   "id": "a87fb335-336b-4cf0-8af5-2ba64709448f",
   "metadata": {},
   "outputs": [
    {
     "data": {
      "text/plain": [
       "(10000, 7)"
      ]
     },
     "execution_count": 25,
     "metadata": {},
     "output_type": "execute_result"
    }
   ],
   "source": [
    "#for X, Y in train_1_loader:\n",
    "#    print(f\"X={X}, Y={Y}\")\n",
    "dataset.iloc[all_splits[0][0]].shape"
   ]
  },
  {
   "cell_type": "markdown",
   "id": "9991d427",
   "metadata": {},
   "source": [
    "# Models\n",
    "As mentioned previously there are a few options for the types of models you end up using."
   ]
  },
  {
   "cell_type": "markdown",
   "id": "d039646b-58ee-40f7-b3da-305bb48008e1",
   "metadata": {},
   "source": [
    "# CNN Model====================================="
   ]
  },
  {
   "cell_type": "markdown",
   "id": "12fe5477-9d85-40ae-a126-c7e788fa019a",
   "metadata": {},
   "source": [
    "# DATA preparation for FCNet"
   ]
  },
  {
   "cell_type": "code",
   "execution_count": 26,
   "id": "376fc437-f0cb-406d-803e-af65bcc47ea5",
   "metadata": {},
   "outputs": [],
   "source": [
    "import torch\n",
    "from torch.utils.data import DataLoader, TensorDataset\n",
    "\n",
    "# Convert lists to NumPy arrays if not already\n",
    "X_train_cnn = np.array(x_train)  # shape: (N, 6, 400)\n",
    "X_test_cnn = np.array(x_test)\n",
    "y_train_cnn = np.array(y_train)\n",
    "y_test_cnn = np.array(y_test)\n",
    "\n",
    "# Create Tensors and reshape to (batch_size, 1, 6, 400)\n",
    "X_train_cnn_tensor = torch.FloatTensor(X_train_cnn).unsqueeze(1)  # add channel dim: (N, 1, 6, 400)\n",
    "X_test_cnn_tensor = torch.FloatTensor(X_test_cnn).unsqueeze(1)\n",
    "y_train_cnn_tensor = torch.LongTensor(y_train_cnn)\n",
    "y_test_cnn_tensor = torch.LongTensor(y_test_cnn)\n",
    "\n",
    "# Dataset and DataLoader\n",
    "train_cnn_dataset = TensorDataset(X_train_cnn_tensor, y_train_cnn_tensor)\n",
    "test_cnn_dataset = TensorDataset(X_test_cnn_tensor, y_test_cnn_tensor)\n",
    "\n",
    "batch_size = 64\n",
    "train_cnn_loader = DataLoader(train_cnn_dataset, batch_size=batch_size, shuffle=True)\n",
    "test_cnn_loader = DataLoader(test_cnn_dataset, batch_size=batch_size)\n"
   ]
  },
  {
   "cell_type": "markdown",
   "id": "4447489f-dc52-4d2b-b644-09109cf493bf",
   "metadata": {},
   "source": [
    "# Model Design"
   ]
  },
  {
   "cell_type": "code",
   "execution_count": 27,
   "id": "54ccb864",
   "metadata": {},
   "outputs": [],
   "source": [
    "class FCNet (nn.Module):\n",
    "    def __init__(self):\n",
    "        super(FCNet, self).__init__()\n",
    "        self.conv1 = nn.Conv2d(in_channels=1, out_channels=16, kernel_size=(3, 20), stride=(1, 2), padding=(1, 10))\n",
    "        self.pool = nn.MaxPool2d(kernel_size=(1, 2))  # pool only across time\n",
    "        self.conv2 = nn.Conv2d(in_channels=16, out_channels=32, kernel_size=(3, 10), stride=(1, 2), padding=(1, 5))\n",
    "        \n",
    "        self.flatten = nn.Flatten()\n",
    "        self.fc1 = nn.LazyLinear(120)\n",
    "        self.fc2 = nn.Linear(120, 8)  # assuming 8 classes\n",
    "\n",
    "    def forward(self, x):\n",
    "        x = self.pool(F.relu(self.conv1(x)))  # (B, 16, H, W)\n",
    "        x = self.pool(F.relu(self.conv2(x)))  # (B, 32, H, W)\n",
    "        x = self.flatten(x)\n",
    "        x = F.relu(self.fc1(x))\n",
    "        x = self.fc2(x)\n",
    "        return x"
   ]
  },
  {
   "cell_type": "code",
   "execution_count": 28,
   "id": "15b54f74-4dac-4985-a6a8-0edde76851f8",
   "metadata": {},
   "outputs": [
    {
     "name": "stdout",
     "output_type": "stream",
     "text": [
      "FCNet(\n",
      "  (conv1): Conv2d(1, 16, kernel_size=(3, 20), stride=(1, 2), padding=(1, 10))\n",
      "  (pool): MaxPool2d(kernel_size=(1, 2), stride=(1, 2), padding=0, dilation=1, ceil_mode=False)\n",
      "  (conv2): Conv2d(16, 32, kernel_size=(3, 10), stride=(1, 2), padding=(1, 5))\n",
      "  (flatten): Flatten(start_dim=1, end_dim=-1)\n",
      "  (fc1): LazyLinear(in_features=0, out_features=120, bias=True)\n",
      "  (fc2): Linear(in_features=120, out_features=8, bias=True)\n",
      ")\n"
     ]
    }
   ],
   "source": [
    "model = FCNet()\n",
    "print(model)"
   ]
  },
  {
   "cell_type": "code",
   "execution_count": null,
   "id": "bebfe7c3-7a23-4023-adef-b1dcc0a8c32a",
   "metadata": {},
   "outputs": [],
   "source": []
  },
  {
   "cell_type": "markdown",
   "id": "7ee2480d",
   "metadata": {},
   "source": [
    "# Training\n",
    "With your model defined you will need to decide on an optimizer used to perform parameter updates. The choice is yours, but for the most part default optimizers like Adam should work for CNNs, although SGD can be more stable but take longer to train. \n",
    "\n",
    "You can then load in data, for example if using the loader described before the loop shown below will iterate through batches of data. "
   ]
  },
  {
   "cell_type": "code",
   "execution_count": 29,
   "id": "aa9e3858-e033-4fe4-adc3-e690bb50fe6f",
   "metadata": {},
   "outputs": [],
   "source": [
    "# Optimisations\n",
    "\n",
    "criterion = nn.CrossEntropyLoss()\n",
    "optimizer = optim.Adam(model.parameters(), lr=0.001)"
   ]
  },
  {
   "cell_type": "code",
   "execution_count": 30,
   "id": "c5a67249-9853-4790-bb71-c1c3a53a8076",
   "metadata": {},
   "outputs": [],
   "source": [
    "# Initialize trackers\n",
    "train_loss_history = []\n",
    "train_acc_history = []\n",
    "val_loss_history = []  # For validation if you have it\n",
    "val_acc_history = []"
   ]
  },
  {
   "cell_type": "code",
   "execution_count": 31,
   "id": "b27dc84e",
   "metadata": {},
   "outputs": [
    {
     "name": "stdout",
     "output_type": "stream",
     "text": [
      "Epoch 1/20, Loss: 1.7050, Accuracy: 42.39%\n",
      "Epoch 2/20, Loss: 1.1153, Accuracy: 53.88%\n",
      "Epoch 3/20, Loss: 0.6874, Accuracy: 73.79%\n",
      "Epoch 4/20, Loss: 0.4651, Accuracy: 81.95%\n",
      "Epoch 5/20, Loss: 0.3161, Accuracy: 87.70%\n",
      "Epoch 6/20, Loss: 0.2849, Accuracy: 89.70%\n",
      "Epoch 7/20, Loss: 0.2248, Accuracy: 92.14%\n",
      "Epoch 8/20, Loss: 0.3149, Accuracy: 91.19%\n",
      "Epoch 9/20, Loss: 0.2876, Accuracy: 91.17%\n",
      "Epoch 10/20, Loss: 0.1901, Accuracy: 93.88%\n",
      "Epoch 11/20, Loss: 0.1462, Accuracy: 95.13%\n",
      "Epoch 12/20, Loss: 0.1220, Accuracy: 95.73%\n",
      "Epoch 13/20, Loss: 0.1037, Accuracy: 96.30%\n",
      "Epoch 14/20, Loss: 0.1675, Accuracy: 95.50%\n",
      "Epoch 15/20, Loss: 0.0747, Accuracy: 97.47%\n",
      "Epoch 16/20, Loss: 0.0779, Accuracy: 97.52%\n",
      "Epoch 17/20, Loss: 0.0993, Accuracy: 96.74%\n",
      "Epoch 18/20, Loss: 0.0370, Accuracy: 98.69%\n",
      "Epoch 19/20, Loss: 0.0339, Accuracy: 98.97%\n",
      "Epoch 20/20, Loss: 0.0709, Accuracy: 98.23%\n"
     ]
    }
   ],
   "source": [
    "device = torch.device(\"cuda\" if torch.cuda.is_available() else \"cpu\")\n",
    "model.to(device)\n",
    "\n",
    "num_epochs = 20\n",
    "for epoch in range(num_epochs):\n",
    "    model.train()\n",
    "    running_loss = 0.0\n",
    "    correct = 0\n",
    "    total = 0\n",
    "\n",
    "    for X, Y in train_1_loader:\n",
    "        X = X.view(X.size(0), 1, 6, 400).float().to(device)\n",
    "        Y = Y.long().to(device)\n",
    "\n",
    "        optimizer.zero_grad()\n",
    "        outputs = model(X)\n",
    "        loss = criterion(outputs, Y)\n",
    "        loss.backward()\n",
    "        optimizer.step()\n",
    "\n",
    "        running_loss += loss.item()\n",
    "        _, predicted = torch.max(outputs.data, 1)\n",
    "        total += Y.size(0)\n",
    "        correct += (predicted == Y).sum().item()\n",
    "\n",
    "    # Store epoch metrics\n",
    "    epoch_loss = running_loss / len(train_1_loader)\n",
    "    epoch_acc = 100 * correct / total\n",
    "    train_loss_history.append(epoch_loss)\n",
    "    train_acc_history.append(epoch_acc)\n",
    "    \n",
    "    print(f\"Epoch {epoch+1}/{num_epochs}, Loss: {epoch_loss:.4f}, Accuracy: {epoch_acc:.2f}%\")\n",
    "\n"
   ]
  },
  {
   "cell_type": "code",
   "execution_count": 46,
   "id": "84954323-b0c2-4c58-b746-a3e20a4f8060",
   "metadata": {},
   "outputs": [
    {
     "data": {
      "image/png": "[encoded data removed]",
      "text/plain": [
       "<Figure size 1200x500 with 2 Axes>"
      ]
     },
     "metadata": {},
     "output_type": "display_data"
    },
    {
     "data": {
      "text/plain": [
       "<Figure size 640x480 with 0 Axes>"
      ]
     },
     "metadata": {},
     "output_type": "display_data"
    }
   ],
   "source": [
    "import matplotlib.pyplot as plt\n",
    "\n",
    "\n",
    "#========================================= CNN training Loss and Accuracy===============================\n",
    "plt.figure(figsize=(12, 5))\n",
    "\n",
    "plt.subplot(1, 2, 1)\n",
    "plt.plot(train_loss_history, label='Loss')\n",
    "plt.title('CNN Training Loss')\n",
    "plt.xlabel('Epoch')\n",
    "plt.ylabel('Loss')\n",
    "plt.grid()\n",
    "plt.legend()\n",
    "\n",
    "plt.subplot(1, 2, 2)\n",
    "plt.plot(train_acc_history, label='Accuracy')\n",
    "plt.title('CNN Training Accuracy')\n",
    "plt.xlabel('Epoch')\n",
    "plt.ylabel('Accuracy (%)')\n",
    "plt.grid()\n",
    "plt.legend()\n",
    "\n",
    "plt.tight_layout()\n",
    "plt.show()\n",
    "plt.savefig(\"CNN_Train_and_Accracy.png\", dpi=300)\n",
    "\n",
    "\n",
    "\n",
    "\n"
   ]
  },
  {
   "cell_type": "markdown",
   "id": "0f657450-c05a-4ee3-ad40-fdc32ab8c076",
   "metadata": {},
   "source": [
    "# Validation"
   ]
  },
  {
   "cell_type": "markdown",
   "id": "3db0aa1b",
   "metadata": {},
   "source": [
    "# Evaluation\n",
    "Make sure to correctly evaluate your models. Justify your methods given your particular model and data used e.g. if you use random holdout, is it justified? What do your performance metrics tell you e.g. was the model overfitting, underfitting, are their early stages in the training process where the model performs well compared to the end of training, which model do you choose to save, are the model outputs \"reasonable\" i.e. are there errors that might make sense given the data? "
   ]
  },
  {
   "cell_type": "markdown",
   "id": "d41b7fab-5bf1-44f5-8b01-058cf2176706",
   "metadata": {},
   "source": [
    "# Confusion matrics plot"
   ]
  },
  {
   "cell_type": "code",
   "execution_count": 33,
   "id": "af383965-6a5e-4f46-8421-ef373c3db976",
   "metadata": {},
   "outputs": [
    {
     "data": {
      "image/png": "[encoded data removed]",
      "text/plain": [
       "<Figure size 800x600 with 2 Axes>"
      ]
     },
     "metadata": {},
     "output_type": "display_data"
    }
   ],
   "source": [
    "def plot_cm(y_true, y_pred, classes):\n",
    "    cm = confusion_matrix(y_true, y_pred)\n",
    "    plt.figure(figsize=(8, 6))\n",
    "    sns.heatmap(cm, annot=True, fmt='d', cmap='Reds', xticklabels=classes, yticklabels=classes)\n",
    "    plt.xlabel('Predicted')\n",
    "    plt.ylabel('True')\n",
    "    plt.title('CNN Confusion Matrix')\n",
    "    plt.show()\n",
    "\n",
    "model.eval()\n",
    "all_preds = []\n",
    "all_true = []\n",
    "with torch.no_grad():\n",
    "    for batch_x, batch_y in test_cnn_loader:\n",
    "        batch_x, batch_y = batch_x.to(device), batch_y.to(device)\n",
    "        outputs = model(batch_x)\n",
    "        _, preds = torch.max(outputs, 1)\n",
    "        all_preds.extend(preds.cpu().numpy())\n",
    "        all_true.extend(batch_y.cpu().numpy())\n",
    "\n",
    "plot_cm(all_true, all_preds, ACT_LABELS)"
   ]
  },
  {
   "cell_type": "code",
   "execution_count": null,
   "id": "9566c09d-ac57-4c27-8bf3-67c70bb85032",
   "metadata": {},
   "outputs": [],
   "source": [
    "\n",
    "\n",
    "\n",
    "\n",
    "\n",
    "\n",
    "\n",
    "\n",
    "\n",
    "\n",
    "\n",
    "\n",
    "\n",
    "\n",
    "\n",
    "\n",
    "\n",
    "\n",
    "\n",
    "\n",
    "\n",
    "\n",
    "\n",
    "\n",
    "\n",
    "\n",
    "\n",
    "\n",
    "\n",
    "\n",
    "\n"
   ]
  },
  {
   "cell_type": "markdown",
   "id": "0dbfac02-23ea-4ebd-b1cb-54ab21266a5e",
   "metadata": {},
   "source": [
    "# RANDOM FOREST TESTING ========================================="
   ]
  },
  {
   "cell_type": "code",
   "execution_count": 34,
   "id": "189ac0af-397f-403f-aabf-1bfd7b65427a",
   "metadata": {},
   "outputs": [],
   "source": [
    "import numpy as np\n",
    "from scipy import stats\n",
    "\n",
    "def extract_features(window):\n",
    "    \"\"\"Extract features from a single window (shape: 6 x 400).\"\"\"\n",
    "    features = []\n",
    "    for sensor_data in window:  # Loop over each of the 6 sensors\n",
    "        features.extend([\n",
    "            np.mean(sensor_data),       # Avg value\n",
    "            np.std(sensor_data),        # Standard deviation\n",
    "            np.min(sensor_data),        # Min value\n",
    "            np.max(sensor_data),        # Max value\n",
    "            np.median(sensor_data),     # Median\n",
    "            stats.skew(sensor_data),    # Skewness\n",
    "            stats.kurtosis(sensor_data) # Kurtosis\n",
    "        ])\n",
    "    return features  # Returns 6 sensors × 7 features = 42 features per window\n",
    "\n",
    "# Apply feature extraction to all windows\n",
    "X_features = np.array([extract_features(window) for window in x])\n",
    "y_labels = np.array(y)  # Shape: (7063,)"
   ]
  },
  {
   "cell_type": "code",
   "execution_count": 35,
   "id": "21a4eb7d-a7c3-4aec-b1be-42d3adcec632",
   "metadata": {},
   "outputs": [],
   "source": [
    "X_train = np.array([extract_features(window) for window in x_train])\n",
    "X_test = np.array([extract_features(window) for window in x_test])\n",
    "y_train = np.array(y_train)\n",
    "y_test = np.array(y_test)"
   ]
  },
  {
   "cell_type": "code",
   "execution_count": 47,
   "id": "47ee41ad-82e2-4718-976a-0f0b1d84a268",
   "metadata": {},
   "outputs": [
    {
     "name": "stdout",
     "output_type": "stream",
     "text": [
      "Test Accuracy: 0.9617834394904459\n"
     ]
    },
    {
     "data": {
      "image/png": "[encoded data removed]",
      "text/plain": [
       "<Figure size 800x600 with 2 Axes>"
      ]
     },
     "metadata": {},
     "output_type": "display_data"
    }
   ],
   "source": [
    "from sklearn.ensemble import RandomForestClassifier\n",
    "from sklearn.metrics import accuracy_score, classification_report, confusion_matrix\n",
    "\n",
    "# Initialize and train\n",
    "rf = RandomForestClassifier(\n",
    "    n_estimators=100,  # Number of trees\n",
    "    random_state=42,   # For reproducibility\n",
    "    n_jobs=-1         # Use all CPU cores\n",
    ")\n",
    "rf.fit(X_train, y_train)\n",
    "\n",
    "# Predict on test set\n",
    "y_pred = rf.predict(X_test)\n",
    "\n",
    "\n",
    "#this is for the report ===========================================================\n",
    "from sklearn.metrics import classification_report, confusion_matrix, accuracy_score\n",
    "import seaborn as sns\n",
    "import matplotlib.pyplot as plt\n",
    "\n",
    "# Evaluation\n",
    "print(\"Test Accuracy:\", accuracy_score(y_test, y_pred))\n",
    "#print(\"\\nClassification Report:\\n\", classification_report(y_test, y_pred))\n",
    "#print(\"\\nConfusion Matrix:\\n\", confusion_matrix(y_test, y_pred))\n",
    "\n",
    "# Confusion Matrix Heatmap\n",
    "plt.figure(figsize=(8, 6))\n",
    "sns.heatmap(confusion_matrix(y_test, y_pred), annot=True, fmt='d', cmap='Reds')\n",
    "plt.xlabel('Predicted Label')\n",
    "plt.ylabel('True Label')\n",
    "plt.title('Random Forest Confusion Matrix')\n",
    "plt.show()\n",
    "\n",
    "#==================================================================================\n"
   ]
  },
  {
   "cell_type": "code",
   "execution_count": null,
   "id": "6f7ba100-9be4-458a-8237-75adfcab7707",
   "metadata": {},
   "outputs": [],
   "source": []
  },
  {
   "cell_type": "markdown",
   "id": "9665c36d-940d-4257-8172-17c4fff2b44b",
   "metadata": {},
   "source": [
    "# Confusion Matrix"
   ]
  },
  {
   "cell_type": "code",
   "execution_count": 37,
   "id": "5c4c8e2f-5f92-47e0-a240-ce67c86e4463",
   "metadata": {},
   "outputs": [
    {
     "data": {
      "text/plain": [
       "'plt.figure(figsize=(10, 6))\\nplt.barh(range(20), importances[:20], align=\\'center\\')\\nplt.yticks(range(20), feature_names[:20])\\nplt.xlabel(\"Feature Importance\")\\nplt.title(\"Top 20 Important Features\")\\nplt.show()'"
      ]
     },
     "execution_count": 37,
     "metadata": {},
     "output_type": "execute_result"
    }
   ],
   "source": [
    "import matplotlib.pyplot as plt\n",
    "\n",
    "# Get feature importances\n",
    "importances = rf.feature_importances_\n",
    "feature_names = [f\"Sensor_{i//7}_Stat_{i%7}\" for i in range(X_train.shape[1])]\n",
    "\n",
    "# Plot top N features\n",
    "'''plt.figure(figsize=(10, 6))\n",
    "plt.barh(range(20), importances[:20], align='center')\n",
    "plt.yticks(range(20), feature_names[:20])\n",
    "plt.xlabel(\"Feature Importance\")\n",
    "plt.title(\"Top 20 Important Features\")\n",
    "plt.show()'''"
   ]
  },
  {
   "cell_type": "code",
   "execution_count": 38,
   "id": "cf427496-481c-464d-8b73-70a5a0d46809",
   "metadata": {},
   "outputs": [
    {
     "name": "stdout",
     "output_type": "stream",
     "text": [
      "Best Params: {'max_depth': None, 'min_samples_split': 2, 'n_estimators': 100}\n"
     ]
    }
   ],
   "source": [
    "from sklearn.model_selection import GridSearchCV\n",
    "\n",
    "param_grid = {\n",
    "    'n_estimators': [50, 100, 200],\n",
    "    'max_depth': [None, 10, 20],\n",
    "    'min_samples_split': [2, 5, 10]\n",
    "}\n",
    "\n",
    "grid_search = GridSearchCV(RandomForestClassifier(random_state=42), param_grid, cv=3, n_jobs=-1)\n",
    "grid_search.fit(X_train, y_train)\n",
    "\n",
    "print(\"Best Params:\", grid_search.best_params_)\n",
    "best_rf = grid_search.best_estimator_"
   ]
  },
  {
   "cell_type": "code",
   "execution_count": null,
   "id": "2cacaa34-e9be-427a-a8d5-9bb2f4d08019",
   "metadata": {},
   "outputs": [],
   "source": []
  },
  {
   "cell_type": "code",
   "execution_count": null,
   "id": "55a3f64c-7776-46e0-ae86-918218d9c2a3",
   "metadata": {},
   "outputs": [],
   "source": [
    "\n",
    "\n",
    "\n",
    "\n",
    "\n",
    "\n",
    "\n",
    "\n",
    "\n",
    "\n",
    "\n",
    "\n",
    "\n",
    "\n",
    "\n",
    "\n",
    "\n",
    "\n",
    "\n",
    "\n",
    "\n",
    "\n",
    "\n",
    "\n",
    "\n",
    "\n",
    "\n",
    "\n",
    "\n",
    "\n",
    "\n",
    "\n",
    "\n"
   ]
  },
  {
   "cell_type": "markdown",
   "id": "90b31329-f44f-4cd8-a0d0-50cd319763c9",
   "metadata": {},
   "source": [
    "# 1. Data Preparation for LSTM\n",
    "\n",
    "LSTMs expect input shape (samples, timesteps, features). We'll reshape your windowed data accordingly:"
   ]
  },
  {
   "cell_type": "code",
   "execution_count": 39,
   "id": "c15027af-37c2-4a76-9608-11a52def568c",
   "metadata": {},
   "outputs": [],
   "source": [
    "import numpy as np\n",
    "import torch\n",
    "import torch.nn as nn\n",
    "from torch.utils.data import DataLoader, TensorDataset\n",
    "\n",
    "# Convert your existing windows to LSTM-friendly format\n",
    "# x_train shape: [num_samples, 6, 400] -> [num_samples, 400, 6] (LSTM expects seq_len first)\n",
    "X_train_lstm = np.array([window.T for window in x_train])  # Transpose to (samples, 400, 6)\n",
    "X_test_lstm = np.array([window.T for window in x_test])    # Same for test set\n",
    "\n",
    "# Convert labels to tensors\n",
    "y_train_lstm = torch.LongTensor(y_train)\n",
    "y_test_lstm = torch.LongTensor(y_test)\n",
    "\n",
    "# Create PyTorch datasets\n",
    "train_dataset = TensorDataset(torch.FloatTensor(X_train_lstm), y_train_lstm)\n",
    "test_dataset = TensorDataset(torch.FloatTensor(X_test_lstm), y_test_lstm)\n",
    "\n",
    "# Data loaders\n",
    "batch_size = 64\n",
    "train_loader = DataLoader(train_dataset, batch_size=batch_size, shuffle=True)\n",
    "test_loader = DataLoader(test_dataset, batch_size=batch_size)"
   ]
  },
  {
   "cell_type": "markdown",
   "id": "b1d31350-6a12-4485-a2b0-be05e9241a83",
   "metadata": {},
   "source": [
    "2. LSTM Model Architecture\n",
    "\n",
    "We'll use a bidirectional LSTM to capture both past and future context:"
   ]
  },
  {
   "cell_type": "code",
   "execution_count": 40,
   "id": "5ac20f75-712b-40d8-bd19-cfcfd00f03f5",
   "metadata": {},
   "outputs": [],
   "source": [
    "class HAR_LSTM(nn.Module):\n",
    "    def __init__(self, input_dim=6, hidden_dim=128, num_layers=2, num_classes=6):\n",
    "        super(HAR_LSTM, self).__init__()\n",
    "        self.lstm = nn.LSTM(\n",
    "            input_size=input_dim,\n",
    "            hidden_size=hidden_dim,\n",
    "            num_layers=num_layers,\n",
    "            bidirectional=True,\n",
    "            batch_first=True\n",
    "        )\n",
    "        self.fc = nn.Linear(hidden_dim * 2, num_classes)  # *2 for bidirectional\n",
    "\n",
    "    def forward(self, x):\n",
    "        # LSTM layer\n",
    "        lstm_out, _ = self.lstm(x)  # lstm_out shape: [batch, seq_len, hidden_dim*2]\n",
    "        \n",
    "        # Use only the last timestep's output\n",
    "        last_output = lstm_out[:, -1, :]\n",
    "        \n",
    "        # Fully connected layer\n",
    "        return self.fc(last_output)"
   ]
  },
  {
   "cell_type": "markdown",
   "id": "c4258538-dcd2-48b6-96a7-f207310a4b69",
   "metadata": {},
   "source": [
    "3. Training the LSTM"
   ]
  },
  {
   "cell_type": "code",
   "execution_count": 42,
   "id": "e6e4db3a-f32d-47f7-a6a8-f227b69b0da7",
   "metadata": {},
   "outputs": [
    {
     "name": "stdout",
     "output_type": "stream",
     "text": [
      "Epoch 1/20, Loss: 119.7575, Accuracy: 47.91%\n",
      "Epoch 2/20, Loss: 99.9708, Accuracy: 57.43%\n",
      "Epoch 3/20, Loss: 78.8609, Accuracy: 67.20%\n",
      "Epoch 4/20, Loss: 75.0926, Accuracy: 68.67%\n",
      "Epoch 5/20, Loss: 63.5724, Accuracy: 74.16%\n",
      "Epoch 6/20, Loss: 63.0145, Accuracy: 73.38%\n",
      "Epoch 7/20, Loss: 47.0967, Accuracy: 80.16%\n",
      "Epoch 8/20, Loss: 61.4075, Accuracy: 74.60%\n",
      "Epoch 9/20, Loss: 44.2988, Accuracy: 82.14%\n",
      "Epoch 10/20, Loss: 39.2727, Accuracy: 83.70%\n",
      "Epoch 11/20, Loss: 42.9730, Accuracy: 83.29%\n",
      "Epoch 12/20, Loss: 36.1475, Accuracy: 85.47%\n",
      "Epoch 13/20, Loss: 30.8702, Accuracy: 87.49%\n",
      "Epoch 14/20, Loss: 44.1254, Accuracy: 84.39%\n",
      "Epoch 15/20, Loss: 100.4306, Accuracy: 59.01%\n",
      "Epoch 16/20, Loss: 90.4456, Accuracy: 64.19%\n",
      "Epoch 17/20, Loss: 72.7609, Accuracy: 72.57%\n",
      "Epoch 18/20, Loss: 55.8037, Accuracy: 77.81%\n",
      "Epoch 19/20, Loss: 48.4711, Accuracy: 80.71%\n",
      "Epoch 20/20, Loss: 43.2932, Accuracy: 82.39%\n"
     ]
    }
   ],
   "source": [
    "device = torch.device(\"cuda\" if torch.cuda.is_available() else \"cpu\")\n",
    "model = HAR_LSTM().to(device)\n",
    "criterion = nn.CrossEntropyLoss()\n",
    "optimizer = torch.optim.Adam(model.parameters(), lr=0.001)\n",
    "\n",
    "# Training loop\n",
    "lstm_train_acc = []\n",
    "num_epochs = 20\n",
    "for epoch in range(num_epochs):\n",
    "    model.train()\n",
    "    total_loss = 0\n",
    "    correct = 0\n",
    "    \n",
    "    for batch_x, batch_y in train_loader:\n",
    "        batch_x, batch_y = batch_x.to(device), batch_y.to(device)\n",
    "        \n",
    "        optimizer.zero_grad()\n",
    "        outputs = model(batch_x)\n",
    "        loss = criterion(outputs, batch_y)\n",
    "        loss.backward()\n",
    "        optimizer.step()\n",
    "        \n",
    "        total_loss += loss.item()\n",
    "        _, predicted = torch.max(outputs.data, 1)\n",
    "        correct += (predicted == batch_y).sum().item()\n",
    "    \n",
    "    train_acc = 100 * correct / len(train_dataset)\n",
    "    lstm_train_acc.append(train_acc)\n",
    "    print(f\"Epoch {epoch+1}/{num_epochs}, Loss: {total_loss:.4f}, Accuracy: {train_acc:.2f}%\")"
   ]
  },
  {
   "cell_type": "code",
   "execution_count": 43,
   "id": "f7fb1e8d-6183-4968-8409-e6f73bb06608",
   "metadata": {},
   "outputs": [
    {
     "data": {
      "image/png": "[encoded data removed]",
      "text/plain": [
       "<Figure size 600x400 with 1 Axes>"
      ]
     },
     "metadata": {},
     "output_type": "display_data"
    }
   ],
   "source": [
    "plt.figure(figsize=(6, 4))\n",
    "plt.plot(range(1, num_epochs+1), lstm_train_acc, marker='o')\n",
    "plt.title('LSTM Training Accuracy')\n",
    "plt.xlabel('Epoch')\n",
    "plt.ylabel('Accuracy (%)')\n",
    "plt.grid()\n",
    "plt.show()\n"
   ]
  },
  {
   "cell_type": "markdown",
   "id": "18505df6-6f96-4e3d-b068-0f6b64ee381f",
   "metadata": {},
   "source": [
    "# Confusion matrix for LSTM"
   ]
  },
  {
   "cell_type": "code",
   "execution_count": 44,
   "id": "036c4f3c-a408-4265-9774-a8fe94cf83ca",
   "metadata": {},
   "outputs": [
    {
     "data": {
      "image/png": "[encoded data removed]",
      "text/plain": [
       "<Figure size 1000x800 with 2 Axes>"
      ]
     },
     "metadata": {},
     "output_type": "display_data"
    }
   ],
   "source": [
    "\n",
    "\n",
    "\n",
    "model.eval()\n",
    "all_preds = []\n",
    "all_true = []\n",
    "with torch.no_grad():\n",
    "    for batch_x, batch_y in test_loader:\n",
    "        batch_x, batch_y = batch_x.to(device), batch_y.to(device)\n",
    "        outputs = model(batch_x)\n",
    "        _, preds = torch.max(outputs, 1)\n",
    "        all_preds.extend(preds.cpu().numpy())\n",
    "        all_true.extend(batch_y.cpu().numpy())\n",
    "\n",
    "plot_confusion_matrix(all_true, all_preds, classes=ACT_LABELS)"
   ]
  },
  {
   "cell_type": "code",
   "execution_count": null,
   "id": "4a0bc43b-d4fc-4318-bc7d-9b9a428443ff",
   "metadata": {},
   "outputs": [],
   "source": []
  },
  {
   "cell_type": "markdown",
   "id": "5594477c-5374-43d4-879c-bc4ef68a3fa4",
   "metadata": {},
   "source": [
    "4. Evaluation"
   ]
  },
  {
   "cell_type": "code",
   "execution_count": 45,
   "id": "1e465f71-3a99-45ae-9a46-ef6a6a218811",
   "metadata": {},
   "outputs": [
    {
     "name": "stdout",
     "output_type": "stream",
     "text": [
      "Test Accuracy: 75.37%\n"
     ]
    }
   ],
   "source": [
    "model.eval()\n",
    "correct = 0\n",
    "with torch.no_grad():\n",
    "    for batch_x, batch_y in test_loader:\n",
    "        batch_x, batch_y = batch_x.to(device), batch_y.to(device)\n",
    "        outputs = model(batch_x)\n",
    "        _, predicted = torch.max(outputs.data, 1)\n",
    "        correct += (predicted == batch_y).sum().item()\n",
    "\n",
    "test_acc = 100 * correct / len(test_dataset)\n",
    "print(f\"Test Accuracy: {test_acc:.2f}%\")"
   ]
  },
  {
   "cell_type": "code",
   "execution_count": null,
   "id": "504def22-8d60-4d0b-aa45-5d1236fc5c56",
   "metadata": {},
   "outputs": [],
   "source": []
  },
  {
   "cell_type": "code",
   "execution_count": null,
   "id": "29854762-1a15-44aa-8bc2-1582b94577ff",
   "metadata": {},
   "outputs": [],
   "source": []
  },
  {
   "cell_type": "code",
   "execution_count": null,
   "id": "acc7d60d-5231-4c79-b46a-da8daf677539",
   "metadata": {},
   "outputs": [],
   "source": []
  },
  {
   "cell_type": "code",
   "execution_count": null,
   "id": "c9627ed9-b39e-46ff-9488-09f09981a842",
   "metadata": {},
   "outputs": [],
   "source": []
  },
  {
   "cell_type": "code",
   "execution_count": null,
   "id": "ef60ea41-888b-4690-a6c2-9f9b4382122a",
   "metadata": {},
   "outputs": [],
   "source": []
  },
  {
   "cell_type": "code",
   "execution_count": null,
   "id": "50828980-a043-431a-993a-10dbc1c38b2c",
   "metadata": {},
   "outputs": [],
   "source": []
  },
  {
   "cell_type": "code",
   "execution_count": null,
   "id": "2be87672-d3a2-430c-949a-30d54b60a22c",
   "metadata": {},
   "outputs": [],
   "source": []
  },
  {
   "cell_type": "code",
   "execution_count": null,
   "id": "d1abe60e-b234-42b8-8c82-de278041e53b",
   "metadata": {},
   "outputs": [],
   "source": []
  }
 ],
 "metadata": {
  "kernelspec": {
   "display_name": "Python 3 (ipykernel)",
   "language": "python",
   "name": "python3"
  },
  "language_info": {
   "codemirror_mode": {
    "name": "ipython",
    "version": 3
   },
   "file_extension": ".py",
   "mimetype": "text/x-python",
   "name": "python",
   "nbconvert_exporter": "python",
   "pygments_lexer": "ipython3",
   "version": "3.11.12"
  }
 },
 "nbformat": 4,
 "nbformat_minor": 5
}
